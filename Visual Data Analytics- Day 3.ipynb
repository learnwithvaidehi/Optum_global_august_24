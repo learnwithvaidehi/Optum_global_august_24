{
 "cells": [
  {
   "cell_type": "markdown",
   "id": "9515b991-aade-4588-a208-283e57a85203",
   "metadata": {},
   "source": [
    "# Data Analytics and Visualization with Python\n",
    "\n",
    "### Learning Objective - \n",
    "\n",
    "- Read data from auto-mpg dataset\n",
    "- CLeaning data\n",
    "- Explore additional chart types\n",
    "- Use functions from plotly library\n",
    "- Create and publish interactive charts using plotly and Dash.set"
   ]
  },
  {
   "cell_type": "markdown",
   "id": "7ddf7753-def1-4fb4-b97f-b2566377e10e",
   "metadata": {},
   "source": [
    "#### Read Data from auto-mpg dataset"
   ]
  },
  {
   "cell_type": "code",
   "execution_count": null,
   "id": "93de7efa-142f-4424-a831-8ab53b26f2ed",
   "metadata": {},
   "outputs": [],
   "source": []
  },
  {
   "cell_type": "markdown",
   "id": "c145bb0d-432b-46ca-81da-5598e59f0882",
   "metadata": {},
   "source": [
    "#### Clean Data"
   ]
  },
  {
   "cell_type": "code",
   "execution_count": null,
   "id": "8628a7e2-6274-4fa4-9cf0-216b6b8bf5ad",
   "metadata": {},
   "outputs": [],
   "source": []
  },
  {
   "cell_type": "markdown",
   "id": "bcfa77ac-b4f7-4551-8ee4-904f55e45217",
   "metadata": {},
   "source": [
    "#### Data Visualization"
   ]
  },
  {
   "cell_type": "code",
   "execution_count": null,
   "id": "27eab583-818f-46d6-8392-a036f6a5b8a3",
   "metadata": {},
   "outputs": [],
   "source": []
  },
  {
   "cell_type": "code",
   "execution_count": null,
   "id": "bd1d8652-dd4c-456d-8801-f89c15110d97",
   "metadata": {},
   "outputs": [],
   "source": []
  }
 ],
 "metadata": {
  "kernelspec": {
   "display_name": "Python 3 (ipykernel)",
   "language": "python",
   "name": "python3"
  },
  "language_info": {
   "codemirror_mode": {
    "name": "ipython",
    "version": 3
   },
   "file_extension": ".py",
   "mimetype": "text/x-python",
   "name": "python",
   "nbconvert_exporter": "python",
   "pygments_lexer": "ipython3",
   "version": "3.12.4"
  }
 },
 "nbformat": 4,
 "nbformat_minor": 5
}
