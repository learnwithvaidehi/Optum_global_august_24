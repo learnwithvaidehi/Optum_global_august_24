{
 "cells": [
  {
   "cell_type": "markdown",
   "id": "87c6fe79-3327-45e0-9a89-ab71c067898d",
   "metadata": {},
   "source": [
    "# Data Analytics and Visualization with Python\n",
    "\n",
    "### Learning Objective - \n",
    "\n",
    "- Descriptive Statistics\n",
    "- Visualizing Data\n",
    "    - Introduction to matplotlib library\n",
    "    - Anatomy of a figure\n",
    "    - Creating sub-plots\n",
    "    - Chart aesthetics\n",
    "- Visual Data Analytics\n",
    "    - Univariate Analysis\n",
    "        - count plots\n",
    "        - histograms and boxplot\n",
    "    - Bivariate Analysis\n",
    "        - scatter plot\n",
    "        - bar plot\n",
    "        - line charts\n",
    "        - pair plots, heatmaps\n",
    "- Create and publish interactive charts using plotly and Dash"
   ]
  },
  {
   "cell_type": "markdown",
   "id": "ce33ae1d-7972-49e8-93b8-19d9e8630692",
   "metadata": {},
   "source": [
    "<br><br><br><br><br><br><br><br><br><br><br><br><br><br><br><br><br><br><br><br><br><br><br><br><br><br><br><br><br><br>"
   ]
  },
  {
   "cell_type": "code",
   "execution_count": null,
   "id": "0ca64048-32a4-4120-9b64-dd854b3f509b",
   "metadata": {},
   "outputs": [],
   "source": [
    "# Final Code ------------\n",
    "\n",
    "import numpy as np\n",
    "import pandas as pd\n",
    "import matplotlib.pyplot as plt\n",
    "import seaborn as sns\n",
    "\n",
    "plt.rcParams['figure.figsize'] = [4, 3]\n",
    "\n",
    "# Reading data from file\n",
    "df = pd.read_csv(\"coffee_sales.csv\", header = 2)\n",
    "\n",
    "# Removing null columns and rows and replacing nulls\n",
    "df.drop(columns=['Unnamed: 0'], inplace=True)\n",
    "df.dropna(how = \"all\", inplace= True)\n",
    "df[\"Target Profit\"].fillna(\"0\", inplace=True)\n",
    "\n",
    "# Converting str columns to float/date\n",
    "df.Sales = df.Sales.str.replace(\"$\", \"\").astype(float)\n",
    "df.Profit = df.Profit.str.replace(\"$\", \"\").astype(float)\n",
    "df[\"Target Profit\"] = df[\"Target Profit\"].str.replace(\"$\", \"\").astype(float)\n",
    "df[\"Target Sales\"] = df[\"Target Sales\"].str.translate(str.maketrans(\"\", \"\", \"$,\")).astype(float)\n",
    "df[\"Date\"] = pd.to_datetime(df[\"Date\"])\n",
    "\n",
    "df[\"Target Status\"] = np.where(df.Sales >= df[\"Target Sales\"], \"Achieved\", \"Not Achieved\")\n",
    "df.insert(2, \"Year\", df.Date.dt.year)\n",
    "df.insert(3, \"Month\", df.Date.dt.month_name())\n",
    "df.insert(3, \"Month#\", df.Date.dt.month)\n",
    "df.head()"
   ]
  },
  {
   "cell_type": "markdown",
   "id": "959a87e2-3520-4dfc-9663-4753e1748a19",
   "metadata": {},
   "source": [
    "## Data Visualisation"
   ]
  },
  {
   "cell_type": "markdown",
   "id": "9e2cb990-9d48-4ceb-828d-0b99b3d9d1e7",
   "metadata": {},
   "source": [
    "### Primary Objects of matplotlib\n",
    "<img src = \"./images/figure.png\" align = left width = 300>\n",
    "<br><br><br><br><br><br><br><br>\n",
    "\n",
    "- The [figure] is the overall figure space that can contain one or more plots\n",
    "- The [axes] is the individual plots that are rendered within the figure"
   ]
  },
  {
   "cell_type": "markdown",
   "id": "0e0aff8c-0fde-4845-b57b-bcafae12d6f7",
   "metadata": {},
   "source": [
    "### Anatomy of a figure\n",
    "\n",
    "<img src = \"./images/figure_anatomy.jpg\" align = left width = 400>"
   ]
  },
  {
   "cell_type": "code",
   "execution_count": null,
   "id": "2265d69e-ce63-4f1c-9db3-88d0e9df9692",
   "metadata": {},
   "outputs": [],
   "source": [
    "import numpy as np\n",
    "dates = np.arange('2019-01', '2022-01', dtype='datetime64[M]')\n",
    "sales = np.array([42390, 77560, 77385, 76039, 42968, 53833, 47205, 68936, 51175, 48186, 71520, 66387, 62717, 52614, 42866, 64275, 44749, 68560,66258, 62221, 66303, 52428, 42300, 65645, 59215, 66944, 67519,46231, 79780, 59746, 59992, 70805, 64609, 72995, 60402, 76956])\n",
    "profits = np.array([ 7206.3 ,  8531.6 , 13155.45,  9885.07,  7304.56,  9689.94, 5664.6 , 11029.76,  6141.  ,  5300.46,  9297.6 , 11285.79, 7526.04,  5787.54,  6429.9 , 12212.25,  5369.88, 12340.8 , 12589.02,  6222.1 ,  7293.33,  8388.48,  6768.  , 11816.1 , 7697.95, 11380.48,  7427.09,  6934.65,  8775.8 ,  7169.52, 7199.04,  9204.65, 10337.44,  9489.35, 10268.34, 14621.64])"
   ]
  },
  {
   "cell_type": "code",
   "execution_count": null,
   "id": "b5c0a2d1-60ca-454d-8d4f-ead18096a8bb",
   "metadata": {},
   "outputs": [],
   "source": []
  },
  {
   "cell_type": "markdown",
   "id": "0ccf09c8-0689-4d67-a333-0d4820cb692e",
   "metadata": {},
   "source": [
    "### Bar Chart"
   ]
  },
  {
   "cell_type": "code",
   "execution_count": null,
   "id": "134ef103-fa9b-413c-8130-2625bc68ece0",
   "metadata": {},
   "outputs": [],
   "source": []
  },
  {
   "cell_type": "markdown",
   "id": "2c0d38e0-0255-4ffb-ab28-ea10a4ddefe4",
   "metadata": {},
   "source": [
    "### Bullet Chart"
   ]
  },
  {
   "cell_type": "code",
   "execution_count": null,
   "id": "9019a57c-0425-487d-8ef4-6b7411fb0e4e",
   "metadata": {},
   "outputs": [],
   "source": []
  },
  {
   "cell_type": "markdown",
   "id": "b1ec604e-3813-4f89-a3b5-57ad25cb2ec0",
   "metadata": {},
   "source": [
    "## Visual Data Analytics"
   ]
  },
  {
   "cell_type": "markdown",
   "id": "3cec14fb-ec05-4a9c-b966-e9d5c813b256",
   "metadata": {},
   "source": [
    "### Univariate Analysis\n",
    "Univariate analysis is a statistical method used to describe and analyze data consisting of only one variable. It focuses on understanding the characteristics and distribution of a single variable without considering the relationship with other variables.\n",
    "\n",
    "- Descriptive Statistics\n",
    "- Frequency Distribution\n",
    "- Measures of Central Tendency\n",
    "- Measures of Dispersion\n",
    "- Visualization:\n",
    "    - Box plots: Displaying the distribution of data using quartiles.\n",
    "    - Histograms: Showing the frequency distribution of continuous variables.\n",
    "    - Bar charts: Displaying the frequency distribution of categorical variables.\n",
    "- Probability Distribution:\n",
    "  - Normal distribution: Assessing if the data follows a normal distribution using graphical methods or statistical tests."
   ]
  },
  {
   "cell_type": "markdown",
   "id": "a3af46ee-17a1-4303-a811-644f393d7496",
   "metadata": {},
   "source": [
    "#### Categorial variable "
   ]
  },
  {
   "cell_type": "code",
   "execution_count": null,
   "id": "fe755bfd-ff0d-425e-b13b-e0d16d04feea",
   "metadata": {},
   "outputs": [],
   "source": []
  },
  {
   "cell_type": "markdown",
   "id": "d45e6bab-fd5d-45ff-b3cc-fe60aa4313db",
   "metadata": {},
   "source": [
    "#### Numeric Variable\n",
    "\n",
    "Descriptive statistics deals with summarizing and describing the features of a dataset or sample. Descriptive statistics provides a summary of the main features of the data, including measures of central tendency, dispersion, shape, and relationships between variables.\n",
    "\n",
    "**Measures of Central Tendency:**\n",
    "\n",
    "    - Mean: The average value of the data points.\n",
    "    - Median: The middle value of the data when arranged in ascending order.\n",
    "    - Mode: The most frequently occurring value in the dataset.\n",
    "\n",
    "**Measures of Dispersion:**\n",
    "\n",
    "    - Range: The difference between the maximum and minimum values in the dataset.\n",
    "    - Variance: The average of the squared differences from the mean.\n",
    "    - Standard Deviation: The square root of the variance, representing the average deviation from the mean.\n",
    "\n",
    "**Measures of Shape:**\n",
    "\n",
    "    - Skewness: A measure of the asymmetry of the distribution.\n",
    "        - Positive skewness indicates a longer right tail and a concentration of data on the left side.\n",
    "        - Negative skewness indicates a longer left tail and a concentration of data on the right side.\n",
    "        - Skewness close to zero indicates approximate symmetry around the mean.\n",
    "\n",
    "    - Kurtosis: A measure of the \"peakedness\" or \"flatness\" of the distribution.\n",
    "        - Positive kurtosis indicates heavy tails and a sharp peak (leptokurtic).\n",
    "        - Negative kurtosis indicates light tails and a flat peak (platykurtic).\n",
    "        - A kurtosis of 0 indicates a distribution with similar tails to the normal distribution (mesokurtic).\n",
    "\n",
    "**Frequency Distribution:**\n",
    "\n",
    "    - Frequency table: A table that shows the frequency or count of each value in the dataset.\n",
    "    - Histogram: A graphical representation of the frequency distribution, showing the distribution of values in bins or intervals.\n",
    "\n",
    "**Measures of Association:**\n",
    "\n",
    "    - Correlation: A measure of the strength and direction of the linear relationship between two variables.\n",
    "    - Covariance: A measure of the joint variability between two variables."
   ]
  },
  {
   "cell_type": "code",
   "execution_count": null,
   "id": "908fe160-a398-4192-a1ec-0a8bc6ca0c5c",
   "metadata": {},
   "outputs": [],
   "source": []
  },
  {
   "cell_type": "code",
   "execution_count": null,
   "id": "5c9e68a5-c8f3-4f49-b3f7-2553574a29db",
   "metadata": {},
   "outputs": [],
   "source": []
  },
  {
   "cell_type": "markdown",
   "id": "6a7ff427-4cd7-4e16-bcd1-32f44498944e",
   "metadata": {},
   "source": [
    "### Bivariate Analysis\n",
    "\n",
    "Bivariate analysis is a statistical method used to analyze the relationship between two variables simultaneously. \n",
    "\n",
    "#### Numerical-Numerical Analysis:\n",
    "\n",
    "- Scatter Plots: Scatter plots with a regression line can show the relationship between two continuous variables. Each data point represents a combination of values from both variables.\n",
    "\n",
    "- Correlation Analysis: Quantifies the strength and direction of the linear relationship between two continuous variables. Pearson correlation coefficient (r) measures the degree of linear association between variables. \n",
    "\t- It ranges from -1 to 1, where:\n",
    "\t- r = 1: Perfect positive correlation\n",
    "\t- r = -1: Perfect negative correlation\n",
    "\t- r = 0: No correlation\n",
    "\n",
    "#### Categorical-Categorical Analysis:\n",
    "\n",
    "- Contingency tables (also known as cross-tabulations) display the frequency distribution of categories for two categorical variables. \n",
    "\n",
    "#### Categorical-Numerical Analysis:\n",
    "\n",
    "- Box plots or bar charts with groupings display the distribution of a numerical variable across different categories of a categorical variable."
   ]
  },
  {
   "cell_type": "markdown",
   "id": "919bcc8d-64d9-4feb-a27b-a1edf53eabee",
   "metadata": {},
   "source": [
    "#### Categorial vs Numeric"
   ]
  },
  {
   "cell_type": "code",
   "execution_count": null,
   "id": "94bf6cd3-0a85-4b92-a91e-c7b001ec6ff3",
   "metadata": {},
   "outputs": [],
   "source": []
  },
  {
   "cell_type": "markdown",
   "id": "5b211075-7736-4018-9b17-db7889bf3fad",
   "metadata": {},
   "source": [
    "#### Numerical vs Numerical"
   ]
  },
  {
   "cell_type": "code",
   "execution_count": null,
   "id": "81e7fe98-46d3-4147-8ab7-65bfb48bca77",
   "metadata": {},
   "outputs": [],
   "source": []
  },
  {
   "cell_type": "markdown",
   "id": "6afef299-fa23-4d8e-91ad-f9786d4124f2",
   "metadata": {},
   "source": [
    "#### Categorial vs categorial"
   ]
  },
  {
   "cell_type": "code",
   "execution_count": null,
   "id": "1c0c63d0-1fa2-4993-87c5-09e89dada032",
   "metadata": {},
   "outputs": [],
   "source": []
  },
  {
   "cell_type": "markdown",
   "id": "d48b7418-eff1-47cc-9b8d-e15b64a8b499",
   "metadata": {},
   "source": [
    "### Example on Multivariate Analysis"
   ]
  },
  {
   "cell_type": "markdown",
   "id": "b831f552-5a9c-45d0-8372-d85199cfed4c",
   "metadata": {},
   "source": [
    "###### Ex. Number of franchises the product being sold in each city"
   ]
  },
  {
   "cell_type": "code",
   "execution_count": null,
   "id": "d4cfcaea-9624-47fd-915a-258595f46ddc",
   "metadata": {},
   "outputs": [],
   "source": []
  },
  {
   "cell_type": "code",
   "execution_count": null,
   "id": "0b6d2ef7-d9dd-4789-88f7-1dc1854248b6",
   "metadata": {},
   "outputs": [],
   "source": []
  }
 ],
 "metadata": {
  "kernelspec": {
   "display_name": "Python 3 (ipykernel)",
   "language": "python",
   "name": "python3"
  },
  "language_info": {
   "codemirror_mode": {
    "name": "ipython",
    "version": 3
   },
   "file_extension": ".py",
   "mimetype": "text/x-python",
   "name": "python",
   "nbconvert_exporter": "python",
   "pygments_lexer": "ipython3",
   "version": "3.12.4"
  }
 },
 "nbformat": 4,
 "nbformat_minor": 5
}
