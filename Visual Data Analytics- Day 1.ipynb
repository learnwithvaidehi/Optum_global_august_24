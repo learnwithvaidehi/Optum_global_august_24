{
 "cells": [
  {
   "cell_type": "markdown",
   "id": "a9022bd5-9018-467e-962f-2f40de5c0258",
   "metadata": {},
   "source": [
    "# Data Analytics and Visualization with Python\n",
    "\n",
    "### Learning Objective - \n",
    "\n",
    "- Introduction to Analytics using Python\n",
    "    - Python Basics for Analytics (Revision)\n",
    "    - numpy and pandas library\n",
    "    - Reading data from various sources (excel, csv, database, json)\n",
    "    - Cleaning and Preparing Data\n",
    "- Descriptive Statistics\n",
    "- Visualizing Data\n",
    "    - Introduction to matplotlib library\n",
    "    - Anatomy of a figure\n",
    "    - Creating sub-plots\n",
    "    - Chart aesthetics\n",
    "- Visual Data Analytics\n",
    "    - Univariate Analysis\n",
    "        - count plots\n",
    "        - histograms and boxplot\n",
    "    - Bivariate Analysis\n",
    "        - scatter plot\n",
    "        - bar plot\n",
    "        - line charts\n",
    "        - pair plots, heatmaps"
   ]
  },
  {
   "cell_type": "markdown",
   "id": "4b4f97dc-00a0-465e-9f3f-38148e098a55",
   "metadata": {},
   "source": [
    "<br><br><br><br><br><br><br><br><br><br><br><br><br><br><br><br><br><br><br><br><br><br><br><br><br><br>"
   ]
  },
  {
   "cell_type": "markdown",
   "id": "04b7a805-d27a-4f18-98e0-39e8514305a2",
   "metadata": {},
   "source": [
    "## Python Basics for Analytics "
   ]
  },
  {
   "cell_type": "markdown",
   "id": "997d95c5-2495-4299-a3f3-818d87e8c2a2",
   "metadata": {},
   "source": [
    "#### Built-in data structure - \n",
    "- list  - [], mutable, mixed data, indexed\n",
    "- tuples - (), immutable, mixed data, indexed\n",
    "- set  - {}, mutable, no duplicates, unordered, mixed data but only immutable objects\n",
    "- dict - {}, mutable, key:value, key - no duplicates, immutable object; Value - any type\n",
    "\n",
    "#### Python Functions\n",
    "\n",
    "- sorted(), zip(), enumerate(), lambda functions"
   ]
  },
  {
   "cell_type": "markdown",
   "id": "c47e57be-0e9f-4e5f-af1c-5de5c94e7972",
   "metadata": {},
   "source": [
    "###### Ex. WAP to print sum of numbers 1 - 10"
   ]
  },
  {
   "cell_type": "code",
   "execution_count": null,
   "id": "92a932a1-f0ac-4b45-9359-a6080270b0ec",
   "metadata": {},
   "outputs": [],
   "source": []
  },
  {
   "cell_type": "markdown",
   "id": "8d44185a-f665-4282-827b-89a5c05f2fec",
   "metadata": {},
   "source": [
    "###### Ex. WAP to sort the given list in DESC order"
   ]
  },
  {
   "cell_type": "code",
   "execution_count": null,
   "id": "dd3c84db-817f-4c81-9d72-b6c0ef7a8243",
   "metadata": {},
   "outputs": [],
   "source": []
  },
  {
   "cell_type": "markdown",
   "id": "511dca8c-9aa6-4252-97e9-9c14bd9b4288",
   "metadata": {},
   "source": [
    "###### Ex. WAP to display name and age of the employees in ASC order of their ages"
   ]
  },
  {
   "cell_type": "code",
   "execution_count": null,
   "id": "8da13577-cff9-4c8b-8f9b-d80f98aa1e83",
   "metadata": {},
   "outputs": [],
   "source": [
    "emp = {'Jane': 30, 'Jack': 20, 'Rosie': 25}\n"
   ]
  },
  {
   "cell_type": "markdown",
   "id": "ee9c2edd-93df-4df2-b1a2-1cd2e81b6307",
   "metadata": {},
   "source": [
    "### Working on Arrays"
   ]
  },
  {
   "cell_type": "code",
   "execution_count": null,
   "id": "a34d16a5-e9b0-4587-8b5a-eab2e0933b6f",
   "metadata": {},
   "outputs": [],
   "source": [
    "!pip install numpy"
   ]
  },
  {
   "cell_type": "code",
   "execution_count": null,
   "id": "5397a917-8f1c-4317-8a76-f668ebaf1654",
   "metadata": {},
   "outputs": [],
   "source": [
    "import numpy as np"
   ]
  },
  {
   "cell_type": "code",
   "execution_count": null,
   "id": "8685b754-0223-44e9-8abd-70236998d9e5",
   "metadata": {},
   "outputs": [],
   "source": [
    "names = np.array([\"Olivia\", \"Liam\", \"Emma\", \"Noah\", \"Ava\", \"Sophia\", \"Jackson\", \"Isabella\", \"Lucas\", \"Mia\"])\n",
    "maths = np.array([93, 60, 68, 53, 63, 30, 46, 63, 66, 53])\n",
    "english = np.array([75, 69, 78, 66, 53, 26, 65, 62, 63, 70])\n",
    "science = np.array([96, 57, 55, 52, 52, 31, 96, 58, 52, 70])"
   ]
  },
  {
   "cell_type": "markdown",
   "id": "b704f2a4-2b1f-4614-b113-ae61c9cf8781",
   "metadata": {},
   "source": [
    "#### Array Attributes"
   ]
  },
  {
   "cell_type": "markdown",
   "id": "31750cd0-bd8f-41a9-9c5c-1ef657f103cc",
   "metadata": {},
   "source": [
    "###### How many students appreared for the exam?"
   ]
  },
  {
   "cell_type": "code",
   "execution_count": null,
   "id": "7a84e830-9abe-4d9f-80d3-ca756623274b",
   "metadata": {},
   "outputs": [],
   "source": []
  },
  {
   "cell_type": "markdown",
   "id": "2e6e8a08-33cf-440e-8c85-650c6d76dc45",
   "metadata": {},
   "source": [
    "#### Accessing Array elemenets and Operations on Arrays"
   ]
  },
  {
   "cell_type": "markdown",
   "id": "eb83e6dc-4134-4e73-9817-bc628ee2f836",
   "metadata": {},
   "source": [
    "###### Ex. Who scored maximum marks in science?"
   ]
  },
  {
   "cell_type": "code",
   "execution_count": null,
   "id": "734465d5-2511-4603-adeb-336f06bac21d",
   "metadata": {},
   "outputs": [],
   "source": [
    "science.max()"
   ]
  },
  {
   "cell_type": "code",
   "execution_count": null,
   "id": "8e3bfcdc-12fb-4a25-be57-43e21e51d984",
   "metadata": {},
   "outputs": [],
   "source": [
    "science == science.max()"
   ]
  },
  {
   "cell_type": "code",
   "execution_count": null,
   "id": "a81e7e0f-06cf-43d6-af62-1ccfb28ab292",
   "metadata": {},
   "outputs": [],
   "source": [
    "names[science == science.max()]"
   ]
  },
  {
   "cell_type": "markdown",
   "id": "8e44c976-94c7-4aeb-ac8a-04b4d874c1ef",
   "metadata": {},
   "source": [
    "###### Ex. How many students have passed in maths?"
   ]
  },
  {
   "cell_type": "code",
   "execution_count": null,
   "id": "21d28df8-5bd0-472b-915f-018055a589e1",
   "metadata": {},
   "outputs": [],
   "source": []
  },
  {
   "cell_type": "markdown",
   "id": "87272b3c-3d49-4581-9274-6427110dc7be",
   "metadata": {},
   "source": [
    "###### Ex. Are there any students who have failed in maths? (True or False)"
   ]
  },
  {
   "cell_type": "code",
   "execution_count": null,
   "id": "8891ff9e-3412-4736-8432-afbe202a116e",
   "metadata": {},
   "outputs": [],
   "source": []
  },
  {
   "cell_type": "markdown",
   "id": "2eb0faca-87dd-49a3-ad2a-b58e3e4e37d4",
   "metadata": {},
   "source": [
    "###### Ex. Have all students cleared their math exams (True or False)"
   ]
  },
  {
   "cell_type": "code",
   "execution_count": null,
   "id": "b9f2f010-5ddb-4009-b2ea-24acd661d75f",
   "metadata": {},
   "outputs": [],
   "source": []
  },
  {
   "cell_type": "markdown",
   "id": "a6602167-d5e9-43e0-9c20-65f0e059cc66",
   "metadata": {},
   "source": [
    "###### Ex. Who failed in maths? passing marks - 35"
   ]
  },
  {
   "cell_type": "code",
   "execution_count": null,
   "id": "8bbb1e31-9e80-4b93-994d-4f7bb5d23f74",
   "metadata": {},
   "outputs": [],
   "source": []
  },
  {
   "cell_type": "markdown",
   "id": "a04cecd3-77dc-4307-9d14-795ecde00382",
   "metadata": {},
   "source": [
    "###### Ex. Calculate percentage of all students and assign grades"
   ]
  },
  {
   "cell_type": "code",
   "execution_count": null,
   "id": "391c4b47-e505-448a-806c-af58e043c97d",
   "metadata": {},
   "outputs": [],
   "source": []
  },
  {
   "cell_type": "markdown",
   "id": "1f072d10-7b0f-47e6-947a-a62ebaad41e5",
   "metadata": {},
   "source": [
    "###### Assign grades to the students (Failed or pass)"
   ]
  },
  {
   "cell_type": "code",
   "execution_count": null,
   "id": "efe3adbd-b1c5-468b-bcf2-70a69bb26113",
   "metadata": {},
   "outputs": [],
   "source": []
  },
  {
   "cell_type": "markdown",
   "id": "e7e7f131-c5f3-4854-8b72-e70ae921f916",
   "metadata": {},
   "source": [
    "###### Assigning grades as A, B, C, D"
   ]
  },
  {
   "cell_type": "code",
   "execution_count": null,
   "id": "90a67aaa-41d5-4d2d-a06e-b4304ab4373a",
   "metadata": {},
   "outputs": [],
   "source": []
  },
  {
   "cell_type": "markdown",
   "id": "9d2b8c1e-271f-499c-80d4-1d90c9502c8b",
   "metadata": {},
   "source": [
    "###### Ex. Display names of students who have scored above class average."
   ]
  },
  {
   "cell_type": "code",
   "execution_count": null,
   "id": "a9ac4542-15fa-40ca-826d-cf4a054081eb",
   "metadata": {},
   "outputs": [],
   "source": []
  },
  {
   "cell_type": "markdown",
   "id": "35d1358e-9a60-4fd0-a1fa-2cc9096e722b",
   "metadata": {},
   "source": [
    "### Working on Dataframes"
   ]
  },
  {
   "cell_type": "markdown",
   "id": "a6f7d4ea-c47b-41ba-a11d-7c17cdb1e27b",
   "metadata": {},
   "source": [
    "#### Reading data from various sources (excel/csv, database, json)"
   ]
  },
  {
   "cell_type": "code",
   "execution_count": null,
   "id": "3edca489-070b-4392-becc-0381481805b9",
   "metadata": {},
   "outputs": [],
   "source": [
    "import numpy as np\n",
    "import pandas as pd\n",
    "import matplotlib.pyplot as plt\n",
    "import seaborn as sns"
   ]
  },
  {
   "cell_type": "markdown",
   "id": "e5f5e554-7f5b-4a0a-8a24-9992fb15b0aa",
   "metadata": {},
   "source": [
    "#### Creating a Datafram from lists/arrays"
   ]
  },
  {
   "cell_type": "code",
   "execution_count": null,
   "id": "f39904da-d14a-432e-b94d-78ef341f6346",
   "metadata": {},
   "outputs": [],
   "source": [
    "names = np.array([\"Olivia\", \"Liam\", \"Emma\", \"Noah\", \"Ava\", \"Sophia\", \"Jackson\", \"Isabella\", \"Lucas\", \"Mia\"])\n",
    "maths = np.array([93, 60, 68, 53, 63, 30, 46, 63, 66, 53])\n",
    "english = np.array([75, 69, 78, 66, 53, 26, 65, 62, 63, 70])\n",
    "science = np.array([96, 57, 55, 52, 52, 31, 96, 58, 52, 70])\n"
   ]
  },
  {
   "cell_type": "code",
   "execution_count": null,
   "id": "034c8b3c-3a6e-44a9-b7c8-360a3bdea123",
   "metadata": {},
   "outputs": [],
   "source": []
  },
  {
   "cell_type": "markdown",
   "id": "382ed68d-2b0b-491f-8298-517fabd81cbf",
   "metadata": {},
   "source": [
    "###### Ex. Create new columns as Total Marks, Percentage, Rank and Grade"
   ]
  },
  {
   "cell_type": "code",
   "execution_count": null,
   "id": "f0fb6a89-a128-410b-b5d6-8ddca51c9ff0",
   "metadata": {},
   "outputs": [],
   "source": []
  },
  {
   "cell_type": "markdown",
   "id": "a59c1108-2029-4ee2-a846-ef21ac35d107",
   "metadata": {},
   "source": [
    "###### Ex. What is AVG marks scored by students in Maths getting Grade B "
   ]
  },
  {
   "cell_type": "code",
   "execution_count": null,
   "id": "75a4dc6e-46af-4c00-9d2c-f6b3f63ad8f2",
   "metadata": {},
   "outputs": [],
   "source": []
  },
  {
   "cell_type": "markdown",
   "id": "4a532e78-91bd-4566-a201-894f076cf6b9",
   "metadata": {},
   "source": [
    "### Conneting to database"
   ]
  },
  {
   "cell_type": "code",
   "execution_count": null,
   "id": "3ec0e572-fc29-4ed6-98aa-baebf9828c7c",
   "metadata": {},
   "outputs": [],
   "source": [
    "!pip install sqlalchemy"
   ]
  },
  {
   "cell_type": "code",
   "execution_count": null,
   "id": "d35fd20f-4512-44ad-8904-a0250d6aee2d",
   "metadata": {},
   "outputs": [],
   "source": [
    "from sqlalchemy import create_engine\n",
    "conn = create_engine(\"sqlite:///employee.sqlite3\")\n",
    "conn"
   ]
  },
  {
   "cell_type": "code",
   "execution_count": null,
   "id": "5596d834-eb61-4dc7-9796-5bf028d7a568",
   "metadata": {},
   "outputs": [],
   "source": []
  },
  {
   "cell_type": "code",
   "execution_count": null,
   "id": "ed995ea3-a402-40d9-bb2d-695f30c4eb54",
   "metadata": {},
   "outputs": [],
   "source": [
    "mssql://*server_name*/*database_name*?trusted_connection=yes"
   ]
  },
  {
   "cell_type": "markdown",
   "id": "cd3fa3b0-58af-4f8e-8465-cfdbb3f6927d",
   "metadata": {},
   "source": [
    "### Connect to Json Object"
   ]
  },
  {
   "cell_type": "code",
   "execution_count": null,
   "id": "89e3ecb5-7309-4db9-880b-6baeb45cf7b7",
   "metadata": {},
   "outputs": [],
   "source": []
  },
  {
   "cell_type": "markdown",
   "id": "51aed624-8e08-4f58-93f5-86cbb84a48c7",
   "metadata": {},
   "source": [
    "### Read data from CSV"
   ]
  },
  {
   "cell_type": "markdown",
   "id": "2dff0e4d-c27e-4777-8045-4e7e68ce18bc",
   "metadata": {},
   "source": [
    "Method 1 - Set the current working directory as the file path"
   ]
  },
  {
   "cell_type": "code",
   "execution_count": null,
   "id": "46b0d3ca-a194-4e24-ac7f-ca352868be54",
   "metadata": {},
   "outputs": [],
   "source": []
  },
  {
   "cell_type": "markdown",
   "id": "63c4f5a0-b159-4ea7-840b-dd63dbf703a4",
   "metadata": {},
   "source": [
    "Method 2 - Upload the files to working environment using jupyter upload button"
   ]
  },
  {
   "cell_type": "markdown",
   "id": "b6300b58-26b5-4cb4-9d00-b7cd65b967e6",
   "metadata": {},
   "source": [
    "#### Reading data from csv file"
   ]
  },
  {
   "cell_type": "code",
   "execution_count": null,
   "id": "99834648-4557-4344-bca3-66b04d3ed819",
   "metadata": {},
   "outputs": [],
   "source": []
  },
  {
   "cell_type": "code",
   "execution_count": null,
   "id": "21d0dd10-1efc-4cad-add3-c775239ce39c",
   "metadata": {},
   "outputs": [],
   "source": []
  },
  {
   "cell_type": "markdown",
   "id": "7892424c-964b-470a-a748-fa43337523b6",
   "metadata": {},
   "source": [
    "#### Handling null values"
   ]
  },
  {
   "cell_type": "code",
   "execution_count": null,
   "id": "e194edc6-8f94-4bab-bb48-320dda832c95",
   "metadata": {},
   "outputs": [],
   "source": []
  },
  {
   "cell_type": "markdown",
   "id": "fa63edf1-96da-4766-8418-d1c2aebeacf8",
   "metadata": {},
   "source": [
    "#### Replacing nulls"
   ]
  },
  {
   "cell_type": "code",
   "execution_count": null,
   "id": "a8a896fb-f7f1-4524-8a22-6302c8e447c9",
   "metadata": {},
   "outputs": [],
   "source": []
  },
  {
   "cell_type": "markdown",
   "id": "e0f6366d-526f-4b9b-afc6-176db6b4372a",
   "metadata": {},
   "source": [
    "#### Remove nulls"
   ]
  },
  {
   "cell_type": "code",
   "execution_count": null,
   "id": "132f740a-8d9c-4fdc-8a93-d240031dd6d7",
   "metadata": {},
   "outputs": [],
   "source": []
  },
  {
   "cell_type": "markdown",
   "id": "1913a8c2-86f4-4714-b1b2-00be3e15afdf",
   "metadata": {},
   "source": [
    "#### Cleaning and Preparing Data"
   ]
  },
  {
   "cell_type": "code",
   "execution_count": null,
   "id": "689fbbe6-8563-48d4-afe1-be555b73b018",
   "metadata": {},
   "outputs": [],
   "source": []
  },
  {
   "cell_type": "markdown",
   "id": "28487602-6cfa-4d39-81f8-f85b38af6894",
   "metadata": {},
   "source": [
    "###### Ex. Find total avg sales (HINT - use mean() in Sales column)"
   ]
  },
  {
   "cell_type": "code",
   "execution_count": null,
   "id": "5d3e66d5-d47d-4eb2-bf69-e25d87a641b9",
   "metadata": {},
   "outputs": [],
   "source": []
  },
  {
   "cell_type": "markdown",
   "id": "bcafc8db-3f8a-49bc-bc7d-aaea1c8545c7",
   "metadata": {},
   "source": [
    "###### Converting date field"
   ]
  },
  {
   "cell_type": "code",
   "execution_count": null,
   "id": "c33ec719-496c-4f88-825c-1dbecc39c7a7",
   "metadata": {},
   "outputs": [],
   "source": []
  },
  {
   "cell_type": "markdown",
   "id": "daa540e2-f986-4874-93bd-6bc973d19a88",
   "metadata": {},
   "source": [
    "###### Ex. Create column for Target Status"
   ]
  },
  {
   "cell_type": "code",
   "execution_count": null,
   "id": "3e0e3703-2f9a-4230-a3fa-e531bf42641e",
   "metadata": {},
   "outputs": [],
   "source": []
  },
  {
   "cell_type": "markdown",
   "id": "3a78e97a-7c5f-4d61-80c1-b267f34db007",
   "metadata": {},
   "source": [
    "###### Ex. Visualise Target status on a bar chart"
   ]
  },
  {
   "cell_type": "code",
   "execution_count": null,
   "id": "23ce17a8-45fb-485f-8520-0b3e5ef44846",
   "metadata": {},
   "outputs": [],
   "source": []
  },
  {
   "cell_type": "markdown",
   "id": "0bc4b5c7-7951-47e1-850e-420cf3650b80",
   "metadata": {},
   "source": [
    "###### Ex. Visualise product-wise Sales"
   ]
  },
  {
   "cell_type": "code",
   "execution_count": null,
   "id": "cd30ef44-9b99-462f-ac46-d9e4f2793d8e",
   "metadata": {},
   "outputs": [],
   "source": []
  },
  {
   "cell_type": "markdown",
   "id": "55234250-62ba-4eed-9365-f35d57f91258",
   "metadata": {},
   "source": [
    "###### Ex. Display product-wise total sales across state Manipur in DESC Order. Find the product generating maximum sales."
   ]
  },
  {
   "cell_type": "code",
   "execution_count": null,
   "id": "b6583fbd-a643-4f02-a920-c40dbebb09d2",
   "metadata": {},
   "outputs": [],
   "source": []
  }
 ],
 "metadata": {
  "kernelspec": {
   "display_name": "Python 3 (ipykernel)",
   "language": "python",
   "name": "python3"
  },
  "language_info": {
   "codemirror_mode": {
    "name": "ipython",
    "version": 3
   },
   "file_extension": ".py",
   "mimetype": "text/x-python",
   "name": "python",
   "nbconvert_exporter": "python",
   "pygments_lexer": "ipython3",
   "version": "3.12.4"
  }
 },
 "nbformat": 4,
 "nbformat_minor": 5
}
