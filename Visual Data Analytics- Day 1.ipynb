{
 "cells": [
  {
   "cell_type": "markdown",
   "id": "a9022bd5-9018-467e-962f-2f40de5c0258",
   "metadata": {},
   "source": [
    "# Data Analytics and Visualization with Python\n",
    "\n",
    "### Learning Objective - \n",
    "\n",
    "- Introduction to Analytics using Python\n",
    "    - Python Basics for Analytics (Revision)\n",
    "    - numpy and pandas library\n",
    "    - Reading data from various sources (excel, csv, database, json)\n",
    "    - Cleaning and Preparing Data\n",
    "- Descriptive Statistics\n",
    "- Visualizing Data\n",
    "    - Introduction to matplotlib library\n",
    "    - Anatomy of a figure\n",
    "    - Creating sub-plots\n",
    "    - Chart aesthetics\n",
    "- Visual Data Analytics\n",
    "    - Univariate Analysis\n",
    "        - count plots\n",
    "        - histograms and boxplot\n",
    "    - Bivariate Analysis\n",
    "        - scatter plot\n",
    "        - bar plot\n",
    "        - line charts\n",
    "        - pair plots, heatmaps"
   ]
  },
  {
   "cell_type": "markdown",
   "id": "04b7a805-d27a-4f18-98e0-39e8514305a2",
   "metadata": {},
   "source": [
    "## Python Basics for Analytics "
   ]
  },
  {
   "cell_type": "markdown",
   "id": "997d95c5-2495-4299-a3f3-818d87e8c2a2",
   "metadata": {},
   "source": [
    "#### Built-in data structure - \n",
    "- list  - [], mutable, mixed data, indexed\n",
    "- tuples - (), immutable, mixed data, indexed\n",
    "- set  - {}, mutable, no duplicates, unordered, mixed data but only immutable objects\n",
    "- dict - {}, mutable, key:value, key - no duplicates, immutable object; Value - any type\n",
    "\n",
    "#### Python Functions\n",
    "\n",
    "- sorted(), zip(), enumerate(), lambda functions"
   ]
  },
  {
   "cell_type": "markdown",
   "id": "c47e57be-0e9f-4e5f-af1c-5de5c94e7972",
   "metadata": {},
   "source": [
    "###### Ex. WAP to print sum of numbers 1 - 10"
   ]
  },
  {
   "cell_type": "code",
   "execution_count": 1,
   "id": "92a932a1-f0ac-4b45-9359-a6080270b0ec",
   "metadata": {},
   "outputs": [
    {
     "data": {
      "text/plain": [
       "55"
      ]
     },
     "execution_count": 1,
     "metadata": {},
     "output_type": "execute_result"
    }
   ],
   "source": [
    "sum(range(1, 11))"
   ]
  },
  {
   "cell_type": "code",
   "execution_count": 2,
   "id": "94b643eb-144e-4894-9786-4baa4b6fec74",
   "metadata": {},
   "outputs": [
    {
     "data": {
      "text/plain": [
       "3628800"
      ]
     },
     "execution_count": 2,
     "metadata": {},
     "output_type": "execute_result"
    }
   ],
   "source": [
    "import math\n",
    "math.prod(range(1, 11))"
   ]
  },
  {
   "cell_type": "markdown",
   "id": "8d44185a-f665-4282-827b-89a5c05f2fec",
   "metadata": {},
   "source": [
    "###### Ex. WAP to sort the given list in DESC order"
   ]
  },
  {
   "cell_type": "code",
   "execution_count": 4,
   "id": "dd3c84db-817f-4c81-9d72-b6c0ef7a8243",
   "metadata": {},
   "outputs": [
    {
     "data": {
      "text/plain": [
       "[5, 4, 3, 2, 1]"
      ]
     },
     "execution_count": 4,
     "metadata": {},
     "output_type": "execute_result"
    }
   ],
   "source": [
    "numbers = [1, 3, 4, 2, 5]\n",
    "numbers.sort(reverse=True)\n",
    "numbers"
   ]
  },
  {
   "cell_type": "code",
   "execution_count": 6,
   "id": "51af8200-c1cc-490d-90d5-79c580af81c9",
   "metadata": {},
   "outputs": [
    {
     "data": {
      "text/plain": [
       "[5, 4, 3, 2, 1]"
      ]
     },
     "execution_count": 6,
     "metadata": {},
     "output_type": "execute_result"
    }
   ],
   "source": [
    "numbers = (1, 3, 4, 2, 5)\n",
    "sorted(numbers,reverse=True)  # sorted - sorts any sequence and retuns a list object"
   ]
  },
  {
   "cell_type": "markdown",
   "id": "8468e69a-ee13-44f4-b7bd-a83b446072e6",
   "metadata": {},
   "source": [
    "###### Ex. WAP to replace all vowels in a string with \"*\""
   ]
  },
  {
   "cell_type": "code",
   "execution_count": 12,
   "id": "30bb77cc-a130-48a7-9c16-912ced9a7be7",
   "metadata": {},
   "outputs": [
    {
     "name": "stdin",
     "output_type": "stream",
     "text": [
      "Enter a word -  SINGAPORE\n"
     ]
    },
    {
     "data": {
      "text/plain": [
       "'S*NG*P*R*'"
      ]
     },
     "execution_count": 12,
     "metadata": {},
     "output_type": "execute_result"
    }
   ],
   "source": [
    "word = input(\"Enter a word - \")\n",
    "for ch in \"aeiouAEIOU\" :\n",
    "    word = word.replace(ch, \"*\")\n",
    "word"
   ]
  },
  {
   "cell_type": "code",
   "execution_count": 18,
   "id": "b4c225bf-b6ac-4bea-b76d-506470b34ae6",
   "metadata": {},
   "outputs": [
    {
     "name": "stdin",
     "output_type": "stream",
     "text": [
      "Enter a word -  new delhi\n"
     ]
    },
    {
     "data": {
      "text/plain": [
       "'n3w d3lh!'"
      ]
     },
     "execution_count": 18,
     "metadata": {},
     "output_type": "execute_result"
    }
   ],
   "source": [
    "word = input(\"Enter a word - \")\n",
    "trans_obj = str.maketrans(\"aeiou\", \"@3!0_\")\n",
    "word.translate(trans_obj)"
   ]
  },
  {
   "cell_type": "code",
   "execution_count": 17,
   "id": "397e81ae-c403-4207-9282-717b3d189390",
   "metadata": {},
   "outputs": [
    {
     "name": "stdout",
     "output_type": "stream",
     "text": [
      "--------------------------------------------------\n"
     ]
    }
   ],
   "source": [
    "print(\"-\"*50)"
   ]
  },
  {
   "cell_type": "markdown",
   "id": "33f8512e-afd6-488f-a0c6-4e2fbc8b2c55",
   "metadata": {},
   "source": [
    "###### Ex. WAP to swap first and last character of a word"
   ]
  },
  {
   "cell_type": "code",
   "execution_count": 22,
   "id": "e457610b-d423-402f-a967-e19234246617",
   "metadata": {},
   "outputs": [
    {
     "name": "stdin",
     "output_type": "stream",
     "text": [
      "Enter a word -  mumbai\n"
     ]
    },
    {
     "data": {
      "text/plain": [
       "'iumbam'"
      ]
     },
     "execution_count": 22,
     "metadata": {},
     "output_type": "execute_result"
    }
   ],
   "source": [
    "word = input(\"Enter a word - \") # i/p - \"mumbai\"  o/p - \"iumbam\"\n",
    "word[-1] + word[1 : -1] + word[0]"
   ]
  },
  {
   "cell_type": "markdown",
   "id": "e86eac82-ddc1-47f4-ad77-c84530d3d868",
   "metadata": {},
   "source": [
    "#### Ex. Calculate Gross Pay\n",
    "- Take hours worked and rate per hour as input from the user.\n",
    "- If the hours worked are 40 or less, apply the given rate.\n",
    "- If the hours worked exceed 40, apply the given rate for the first 40 hours and 1.5 times the rate for the additional hours as overtime pay."
   ]
  },
  {
   "cell_type": "code",
   "execution_count": 26,
   "id": "62ffd34c-0756-40e2-a423-77817e350e6a",
   "metadata": {},
   "outputs": [
    {
     "name": "stdin",
     "output_type": "stream",
     "text": [
      "Enter number of hours -  45\n",
      "Enter rate per hour -  100\n"
     ]
    },
    {
     "data": {
      "text/plain": [
       "4750.0"
      ]
     },
     "execution_count": 26,
     "metadata": {},
     "output_type": "execute_result"
    }
   ],
   "source": [
    "hours = int(input(\"Enter number of hours - \"))\n",
    "rate = int(input(\"Enter rate per hour - \"))\n",
    "\n",
    "if hours <= 40 :\n",
    "    gross_pay = hours * rate\n",
    "else:\n",
    "    gross_pay = (40 * rate) + (hours - 40) * 1.5 * rate\n",
    "gross_pay"
   ]
  },
  {
   "cell_type": "markdown",
   "id": "49780420-e4d3-44c7-8d9e-e8a46047c93e",
   "metadata": {},
   "source": [
    "###### Ex. WAP to generate a list of squares of number in range of 1-10"
   ]
  },
  {
   "cell_type": "code",
   "execution_count": 27,
   "id": "db8d9cdf-0251-40ed-92be-470c28b5257c",
   "metadata": {},
   "outputs": [
    {
     "data": {
      "text/plain": [
       "[1, 4, 9, 16, 25, 36, 49, 64, 81, 100]"
      ]
     },
     "execution_count": 27,
     "metadata": {},
     "output_type": "execute_result"
    }
   ],
   "source": [
    "[i**2 for i in range(1, 11)]"
   ]
  },
  {
   "cell_type": "markdown",
   "id": "b9764c15-cd4e-497d-a3ab-e36432d6bb1c",
   "metadata": {},
   "source": [
    "###### Ex. WAP to generate a list of squares of numbers divisible by 3 in range of 1-20"
   ]
  },
  {
   "cell_type": "code",
   "execution_count": 28,
   "id": "703822d6-b03b-4317-a0e1-9fdb68372056",
   "metadata": {},
   "outputs": [
    {
     "data": {
      "text/plain": [
       "[9, 36, 81, 144, 225, 324]"
      ]
     },
     "execution_count": 28,
     "metadata": {},
     "output_type": "execute_result"
    }
   ],
   "source": [
    "[i**2 for i in range(1, 21) if i % 3 == 0]"
   ]
  },
  {
   "cell_type": "markdown",
   "id": "7cc709af-ab3f-472d-98d8-f00a1de4b1a1",
   "metadata": {},
   "source": [
    "###### Ex. WAP to create dict of numbers in range 1-10 as keys and their squares as values"
   ]
  },
  {
   "cell_type": "code",
   "execution_count": 29,
   "id": "6beede65-9c88-4994-9cf1-f4a98fed0c7a",
   "metadata": {},
   "outputs": [
    {
     "data": {
      "text/plain": [
       "{1: 1, 2: 4, 3: 9, 4: 16, 5: 25, 6: 36, 7: 49, 8: 64, 9: 81, 10: 100}"
      ]
     },
     "execution_count": 29,
     "metadata": {},
     "output_type": "execute_result"
    }
   ],
   "source": [
    "{i : i**2 for i in range(1, 11)}"
   ]
  },
  {
   "cell_type": "markdown",
   "id": "728ec9e1-bdbb-4dc6-9bf3-b031cfe79e69",
   "metadata": {},
   "source": [
    "###### Ex. WAP to create a dict of numbers divisible by 3 in range 1-20 as keys and their type(even or odd) as values"
   ]
  },
  {
   "cell_type": "code",
   "execution_count": 30,
   "id": "dbbc36e1-d1eb-4f73-a37e-62a7e8dc85aa",
   "metadata": {},
   "outputs": [
    {
     "data": {
      "text/plain": [
       "{3: 'odd', 6: 'even', 9: 'odd', 12: 'even', 15: 'odd', 18: 'even'}"
      ]
     },
     "execution_count": 30,
     "metadata": {},
     "output_type": "execute_result"
    }
   ],
   "source": [
    "{i : \"even\" if i % 2 == 0 else \"odd\" for i in range(1, 21) if i % 3 == 0}"
   ]
  },
  {
   "cell_type": "markdown",
   "id": "9dfca228-6cc5-43dd-b113-a900e4245899",
   "metadata": {},
   "source": [
    "`Comprehensions` are an elegant way to define and create mutable data structures like lists, sets, dictionary based on existing sequences\n",
    "Syntax – \n",
    "\n",
    "`[<expression> for <var> in <sequence> if <condition>]`\n",
    "\n",
    "1. Identify the sequence\n",
    "2. Identify condition if any\n",
    "3. Expression\n",
    "4. Mutable datastructure"
   ]
  },
  {
   "cell_type": "markdown",
   "id": "1a552f5c-19b3-4a98-89dd-f52d80c99a5e",
   "metadata": {},
   "source": [
    "###### Ex. WAP to add 7% service tax to all the values in the \"sales\" list"
   ]
  },
  {
   "cell_type": "code",
   "execution_count": 31,
   "id": "39a5de65-bd7a-47fc-a1a2-b705813ba2ea",
   "metadata": {},
   "outputs": [
    {
     "data": {
      "text/plain": [
       "[310.3, 535.0, 856.0, 695.5]"
      ]
     },
     "execution_count": 31,
     "metadata": {},
     "output_type": "execute_result"
    }
   ],
   "source": [
    "sales = [290, 500, 800, 650]\n",
    "[i * 1.07 for i in sales]"
   ]
  },
  {
   "cell_type": "markdown",
   "id": "eed89095-beba-475c-8fc7-8aaeb5c08b31",
   "metadata": {},
   "source": [
    "###### Ex. WAP to sum all the values in the \"sales\" tuple"
   ]
  },
  {
   "cell_type": "code",
   "execution_count": 34,
   "id": "f5e13820-e3b0-4b36-9685-f4c6b01adcfd",
   "metadata": {},
   "outputs": [
    {
     "data": {
      "text/plain": [
       "2240"
      ]
     },
     "execution_count": 34,
     "metadata": {},
     "output_type": "execute_result"
    }
   ],
   "source": [
    "sales = (\"$290\", \"$500\", \"$800\", \"$650\")\n",
    "sum([int(i.replace(\"$\", \"\")) for i in sales])"
   ]
  },
  {
   "cell_type": "code",
   "execution_count": 35,
   "id": "76a6a5b9-81c5-48fc-8c9f-8bce610cd12a",
   "metadata": {},
   "outputs": [
    {
     "data": {
      "text/plain": [
       "2240"
      ]
     },
     "execution_count": 35,
     "metadata": {},
     "output_type": "execute_result"
    }
   ],
   "source": [
    "sales = (\"$290\", \"$500\", \"$800\", \"$650\")\n",
    "sum([int(i.strip(\"$\")) for i in sales])"
   ]
  },
  {
   "cell_type": "code",
   "execution_count": 38,
   "id": "b59513a7-e46f-470e-b2fe-1aa8d86b83b7",
   "metadata": {},
   "outputs": [
    {
     "data": {
      "text/plain": [
       "360"
      ]
     },
     "execution_count": 38,
     "metadata": {},
     "output_type": "execute_result"
    }
   ],
   "source": [
    "profits = (\"-$290\", \"$500\", \"$800\", \"-$650\")\n",
    "sum([int(i.replace(\"$\", \"\")) for i in profits])"
   ]
  },
  {
   "cell_type": "markdown",
   "id": "52f9a792-83af-4148-9b6b-c1045fd63423",
   "metadata": {},
   "source": [
    "## Functions in Python"
   ]
  },
  {
   "cell_type": "markdown",
   "id": "36485ff4-2b19-419c-a496-055dc35882cd",
   "metadata": {},
   "source": [
    "#### function definition"
   ]
  },
  {
   "cell_type": "code",
   "execution_count": 43,
   "id": "414d6552-f6ba-4352-91c3-395409e376be",
   "metadata": {},
   "outputs": [],
   "source": [
    "def factorial(num) :\n",
    "    if type(num) == int :\n",
    "        fact = 1\n",
    "        for i in range(num, 1, -1):\n",
    "            fact *= i\n",
    "        return fact\n",
    "    else:\n",
    "        return \"Invalid\""
   ]
  },
  {
   "cell_type": "markdown",
   "id": "6b14d034-eb09-46ce-be88-6441a2b458d0",
   "metadata": {},
   "source": [
    "#### function call"
   ]
  },
  {
   "cell_type": "code",
   "execution_count": 44,
   "id": "11e763b7-d697-4bc9-8198-3a12c8ecd768",
   "metadata": {},
   "outputs": [
    {
     "data": {
      "text/plain": [
       "120"
      ]
     },
     "execution_count": 44,
     "metadata": {},
     "output_type": "execute_result"
    }
   ],
   "source": [
    "factorial(5)"
   ]
  },
  {
   "cell_type": "code",
   "execution_count": 45,
   "id": "3385e3fa-8567-48e9-8f94-2b6fd4f456eb",
   "metadata": {},
   "outputs": [
    {
     "data": {
      "text/plain": [
       "'Invalid'"
      ]
     },
     "execution_count": 45,
     "metadata": {},
     "output_type": "execute_result"
    }
   ],
   "source": [
    "factorial(\"abcd\")"
   ]
  },
  {
   "cell_type": "code",
   "execution_count": 75,
   "id": "48fb60b5-0ca3-4608-96bb-3d6ea41b7baf",
   "metadata": {},
   "outputs": [
    {
     "name": "stdout",
     "output_type": "stream",
     "text": [
      "50\n",
      "5555555555\n"
     ]
    }
   ],
   "source": [
    "def multiply_by_10(num) :\n",
    "    return num * 10\n",
    "\n",
    "print(multiply_by_10(5))\n",
    "print(multiply_by_10(\"5\"))"
   ]
  },
  {
   "cell_type": "markdown",
   "id": "4786dea3-8115-43ee-9eb5-d4029c464f69",
   "metadata": {},
   "source": [
    "##### Note - Unpacking of tuples"
   ]
  },
  {
   "cell_type": "code",
   "execution_count": 47,
   "id": "88803223-9b52-4328-9232-58625ebbbf06",
   "metadata": {},
   "outputs": [
    {
     "data": {
      "text/plain": [
       "(1, 2, 3)"
      ]
     },
     "execution_count": 47,
     "metadata": {},
     "output_type": "execute_result"
    }
   ],
   "source": [
    "tup = 1, 2, 3  # packing of tuples\n",
    "tup"
   ]
  },
  {
   "cell_type": "code",
   "execution_count": 49,
   "id": "74f5adaf-3414-4d0a-bbad-a8d33e31579d",
   "metadata": {},
   "outputs": [
    {
     "name": "stdout",
     "output_type": "stream",
     "text": [
      "1 2 3\n"
     ]
    }
   ],
   "source": [
    "a, b, c = tup  # unpacking of tuples\n",
    "print(a, b, c)"
   ]
  },
  {
   "cell_type": "markdown",
   "id": "0e021dc6-5f4e-42ad-a88c-bf9e20ca9f8c",
   "metadata": {},
   "source": [
    "Defining multiple variables in a single line"
   ]
  },
  {
   "cell_type": "code",
   "execution_count": 50,
   "id": "4ad3eb49-cece-4eaa-badb-a3ce61df04ca",
   "metadata": {},
   "outputs": [
    {
     "data": {
      "text/plain": [
       "'Jane'"
      ]
     },
     "execution_count": 50,
     "metadata": {},
     "output_type": "execute_result"
    }
   ],
   "source": [
    "name, age = \"Jane\", 30\n",
    "name"
   ]
  },
  {
   "cell_type": "markdown",
   "id": "dbb8d433-3ade-4e6e-80e2-15ed487b8195",
   "metadata": {},
   "source": [
    "Function returning multiple values"
   ]
  },
  {
   "cell_type": "code",
   "execution_count": 52,
   "id": "56522c3a-b72f-4061-a53b-1c50b98cf4c9",
   "metadata": {},
   "outputs": [],
   "source": [
    "def calculate(num):\n",
    "    return num**2, num**3\n",
    "# This function returns multiple values in a tuple object"
   ]
  },
  {
   "cell_type": "code",
   "execution_count": 53,
   "id": "c880925a-4673-4e9d-80e8-eb6d2600e16d",
   "metadata": {},
   "outputs": [
    {
     "data": {
      "text/plain": [
       "(4, 8)"
      ]
     },
     "execution_count": 53,
     "metadata": {},
     "output_type": "execute_result"
    }
   ],
   "source": [
    "values = calculate(2)\n",
    "values"
   ]
  },
  {
   "cell_type": "code",
   "execution_count": 54,
   "id": "3e62649a-ed74-470e-ad2d-507d7cf8af61",
   "metadata": {},
   "outputs": [],
   "source": [
    "sq, cub = calculate(2)  # unpacking of tuples"
   ]
  },
  {
   "cell_type": "code",
   "execution_count": 55,
   "id": "f808769d-7c0f-42c1-ada8-cb4660daabb7",
   "metadata": {},
   "outputs": [
    {
     "data": {
      "text/plain": [
       "4"
      ]
     },
     "execution_count": 55,
     "metadata": {},
     "output_type": "execute_result"
    }
   ],
   "source": [
    "sq"
   ]
  },
  {
   "cell_type": "code",
   "execution_count": 57,
   "id": "cad3ede4-f54f-4cec-8874-139769ddac50",
   "metadata": {},
   "outputs": [
    {
     "data": {
      "text/plain": [
       "8"
      ]
     },
     "execution_count": 57,
     "metadata": {},
     "output_type": "execute_result"
    }
   ],
   "source": [
    "cub"
   ]
  },
  {
   "cell_type": "markdown",
   "id": "f20c1f62-3661-42ea-8d99-bfa262141ce7",
   "metadata": {},
   "source": [
    "Using unpacking of tuples in a for-loop"
   ]
  },
  {
   "cell_type": "code",
   "execution_count": 60,
   "id": "ffedf232-55ac-4d17-9933-67d5248aeb40",
   "metadata": {},
   "outputs": [
    {
     "name": "stdout",
     "output_type": "stream",
     "text": [
      "Jane  -  30\n",
      "Jack  -  20\n",
      "Rosie  -  25\n"
     ]
    }
   ],
   "source": [
    "emp = {'Jane': 30, 'Jack': 20, 'Rosie': 25}\n",
    "for i in emp :\n",
    "    print(i, \" - \", emp[i])"
   ]
  },
  {
   "cell_type": "code",
   "execution_count": 61,
   "id": "f69a19f4-2ea5-434c-98a0-88e6f4fcd5f5",
   "metadata": {},
   "outputs": [
    {
     "name": "stdout",
     "output_type": "stream",
     "text": [
      "('Jane', 30)\n",
      "('Jack', 20)\n",
      "('Rosie', 25)\n"
     ]
    }
   ],
   "source": [
    "emp = {'Jane': 30, 'Jack': 20, 'Rosie': 25}\n",
    "for i in emp.items() :\n",
    "    print(i)"
   ]
  },
  {
   "cell_type": "code",
   "execution_count": 62,
   "id": "7d5a9a06-28de-4cd7-a14e-c16338613ef8",
   "metadata": {},
   "outputs": [
    {
     "data": {
      "text/plain": [
       "dict_items([('Jane', 30), ('Jack', 20), ('Rosie', 25)])"
      ]
     },
     "execution_count": 62,
     "metadata": {},
     "output_type": "execute_result"
    }
   ],
   "source": [
    "emp.items()"
   ]
  },
  {
   "cell_type": "code",
   "execution_count": 63,
   "id": "04d1e442-c4b7-4956-a1bf-399e6d5e290f",
   "metadata": {},
   "outputs": [
    {
     "name": "stdout",
     "output_type": "stream",
     "text": [
      "Jane  -  30\n",
      "Jack  -  20\n",
      "Rosie  -  25\n"
     ]
    }
   ],
   "source": [
    "emp = {'Jane': 30, 'Jack': 20, 'Rosie': 25}\n",
    "for i, j in emp.items() :\n",
    "    print(i, \" - \", j)"
   ]
  },
  {
   "cell_type": "markdown",
   "id": "39ebfdac-2559-4a71-afb5-481496d41f7b",
   "metadata": {},
   "source": [
    "### Function Arguments"
   ]
  },
  {
   "cell_type": "markdown",
   "id": "030b097b-a112-4736-864c-a5ee5c105986",
   "metadata": {},
   "source": [
    "#### Required Positional Arguments"
   ]
  },
  {
   "cell_type": "code",
   "execution_count": 64,
   "id": "0dde0693-93db-4665-bdff-b9392ff390f7",
   "metadata": {},
   "outputs": [],
   "source": [
    "def demo(name, age) :\n",
    "    print(f\"Name - {name} | Age - {age}\")"
   ]
  },
  {
   "cell_type": "code",
   "execution_count": 67,
   "id": "44140eb5-8694-4d2e-8238-68558d7ab8a4",
   "metadata": {},
   "outputs": [
    {
     "name": "stdout",
     "output_type": "stream",
     "text": [
      "Name - Jane | Age - 30\n",
      "Name - 30 | Age - Jane\n"
     ]
    },
    {
     "ename": "TypeError",
     "evalue": "demo() missing 1 required positional argument: 'age'",
     "output_type": "error",
     "traceback": [
      "\u001b[1;31m---------------------------------------------------------------------------\u001b[0m",
      "\u001b[1;31mTypeError\u001b[0m                                 Traceback (most recent call last)",
      "Cell \u001b[1;32mIn[67], line 3\u001b[0m\n\u001b[0;32m      1\u001b[0m demo(\u001b[38;5;124m\"\u001b[39m\u001b[38;5;124mJane\u001b[39m\u001b[38;5;124m\"\u001b[39m, \u001b[38;5;241m30\u001b[39m)\n\u001b[0;32m      2\u001b[0m demo(\u001b[38;5;241m30\u001b[39m, \u001b[38;5;124m\"\u001b[39m\u001b[38;5;124mJane\u001b[39m\u001b[38;5;124m\"\u001b[39m)\n\u001b[1;32m----> 3\u001b[0m \u001b[43mdemo\u001b[49m\u001b[43m(\u001b[49m\u001b[38;5;124;43m\"\u001b[39;49m\u001b[38;5;124;43mJane\u001b[39;49m\u001b[38;5;124;43m\"\u001b[39;49m\u001b[43m)\u001b[49m\n",
      "\u001b[1;31mTypeError\u001b[0m: demo() missing 1 required positional argument: 'age'"
     ]
    }
   ],
   "source": [
    "demo(\"Jane\", 30)\n",
    "demo(30, \"Jane\")\n",
    "demo(\"Jane\")"
   ]
  },
  {
   "cell_type": "markdown",
   "id": "b2958e32-04ff-4342-a765-511d5eefd641",
   "metadata": {},
   "source": [
    "Examples - "
   ]
  },
  {
   "cell_type": "code",
   "execution_count": 69,
   "id": "fea502b8-7dcb-421c-92a3-d795b72cedfa",
   "metadata": {},
   "outputs": [
    {
     "name": "stdout",
     "output_type": "stream",
     "text": [
      "m*ss*ss*pp*\n",
      "mississippi\n"
     ]
    }
   ],
   "source": [
    "strg = \"mississippi\"\n",
    "print(strg.replace(\"i\", \"*\"))\n",
    "print(strg.replace(\"*\", \"i\"))"
   ]
  },
  {
   "cell_type": "code",
   "execution_count": 71,
   "id": "0688d5c2-fa28-4e55-9f75-2714f861de10",
   "metadata": {},
   "outputs": [
    {
     "data": {
      "text/plain": [
       "[10, 20, 'abc', 30, 40, 50]"
      ]
     },
     "execution_count": 71,
     "metadata": {},
     "output_type": "execute_result"
    }
   ],
   "source": [
    "lst = [10, 20, 30, 40, 50]\n",
    "lst.insert(2, \"abc\")\n",
    "# lst.insert(\"abc\", 2)  - error - positional argument\n",
    "lst"
   ]
  },
  {
   "cell_type": "code",
   "execution_count": 73,
   "id": "dc7e8566-6fdc-43d1-841c-c67374347e78",
   "metadata": {},
   "outputs": [
    {
     "data": {
      "text/plain": [
       "[10, 20, 30, 2, 40, 50]"
      ]
     },
     "execution_count": 73,
     "metadata": {},
     "output_type": "execute_result"
    }
   ],
   "source": [
    "lst = [10, 20, 30, 40, 50]\n",
    "# lst.insert(2, 3)\n",
    "lst.insert(3, 2)\n",
    "lst"
   ]
  },
  {
   "cell_type": "code",
   "execution_count": 79,
   "id": "08aa0f82-7837-46e4-a453-4b246ce30e50",
   "metadata": {},
   "outputs": [
    {
     "data": {
      "text/plain": [
       "[1, 3, 5, 7, 9]"
      ]
     },
     "execution_count": 79,
     "metadata": {},
     "output_type": "execute_result"
    }
   ],
   "source": [
    "list(range(1, 11, 2))"
   ]
  },
  {
   "cell_type": "code",
   "execution_count": 77,
   "id": "e50d4855-8e8a-40a7-a38f-2fde8737c97d",
   "metadata": {},
   "outputs": [
    {
     "data": {
      "text/plain": [
       "[0, 1, 2, 3, 4, 5, 6, 7, 8, 9, 10]"
      ]
     },
     "execution_count": 77,
     "metadata": {},
     "output_type": "execute_result"
    }
   ],
   "source": [
    "list(range(11))"
   ]
  },
  {
   "cell_type": "code",
   "execution_count": 78,
   "id": "98103a13-e75b-4b96-a617-bc5e4d54a9f1",
   "metadata": {},
   "outputs": [
    {
     "name": "stdout",
     "output_type": "stream",
     "text": [
      "Help on class range in module builtins:\n",
      "\n",
      "class range(object)\n",
      " |  range(stop) -> range object\n",
      " |  range(start, stop[, step]) -> range object\n",
      " |\n",
      " |  Return an object that produces a sequence of integers from start (inclusive)\n",
      " |  to stop (exclusive) by step.  range(i, j) produces i, i+1, i+2, ..., j-1.\n",
      " |  start defaults to 0, and stop is omitted!  range(4) produces 0, 1, 2, 3.\n",
      " |  These are exactly the valid indices for a list of 4 elements.\n",
      " |  When step is given, it specifies the increment (or decrement).\n",
      " |\n",
      " |  Methods defined here:\n",
      " |\n",
      " |  __bool__(self, /)\n",
      " |      True if self else False\n",
      " |\n",
      " |  __contains__(self, key, /)\n",
      " |      Return bool(key in self).\n",
      " |\n",
      " |  __eq__(self, value, /)\n",
      " |      Return self==value.\n",
      " |\n",
      " |  __ge__(self, value, /)\n",
      " |      Return self>=value.\n",
      " |\n",
      " |  __getattribute__(self, name, /)\n",
      " |      Return getattr(self, name).\n",
      " |\n",
      " |  __getitem__(self, key, /)\n",
      " |      Return self[key].\n",
      " |\n",
      " |  __gt__(self, value, /)\n",
      " |      Return self>value.\n",
      " |\n",
      " |  __hash__(self, /)\n",
      " |      Return hash(self).\n",
      " |\n",
      " |  __iter__(self, /)\n",
      " |      Implement iter(self).\n",
      " |\n",
      " |  __le__(self, value, /)\n",
      " |      Return self<=value.\n",
      " |\n",
      " |  __len__(self, /)\n",
      " |      Return len(self).\n",
      " |\n",
      " |  __lt__(self, value, /)\n",
      " |      Return self<value.\n",
      " |\n",
      " |  __ne__(self, value, /)\n",
      " |      Return self!=value.\n",
      " |\n",
      " |  __reduce__(...)\n",
      " |      Helper for pickle.\n",
      " |\n",
      " |  __repr__(self, /)\n",
      " |      Return repr(self).\n",
      " |\n",
      " |  __reversed__(...)\n",
      " |      Return a reverse iterator.\n",
      " |\n",
      " |  count(...)\n",
      " |      rangeobject.count(value) -> integer -- return number of occurrences of value\n",
      " |\n",
      " |  index(...)\n",
      " |      rangeobject.index(value) -> integer -- return index of value.\n",
      " |      Raise ValueError if the value is not present.\n",
      " |\n",
      " |  ----------------------------------------------------------------------\n",
      " |  Static methods defined here:\n",
      " |\n",
      " |  __new__(*args, **kwargs)\n",
      " |      Create and return a new object.  See help(type) for accurate signature.\n",
      " |\n",
      " |  ----------------------------------------------------------------------\n",
      " |  Data descriptors defined here:\n",
      " |\n",
      " |  start\n",
      " |\n",
      " |  step\n",
      " |\n",
      " |  stop\n",
      "\n"
     ]
    }
   ],
   "source": [
    "help(range)"
   ]
  },
  {
   "cell_type": "code",
   "execution_count": 80,
   "id": "12eaa7b4-5e35-4da1-bd33-ffb3f1c16aa4",
   "metadata": {},
   "outputs": [
    {
     "name": "stdout",
     "output_type": "stream",
     "text": [
      "Help on method_descriptor:\n",
      "\n",
      "insert(self, index, object, /) unbound builtins.list method\n",
      "    Insert object before index.\n",
      "\n"
     ]
    }
   ],
   "source": [
    "help(list.insert)"
   ]
  },
  {
   "cell_type": "markdown",
   "id": "8b0b32f2-61e1-48e1-acf9-8392a256795c",
   "metadata": {},
   "source": [
    "#### Default Argument"
   ]
  },
  {
   "cell_type": "code",
   "execution_count": 81,
   "id": "221a6289-009d-4b13-9a16-361ab11b16e2",
   "metadata": {},
   "outputs": [
    {
     "name": "stdout",
     "output_type": "stream",
     "text": [
      "Help on method_descriptor:\n",
      "\n",
      "replace(self, old, new, count=-1, /) unbound builtins.str method\n",
      "    Return a copy with all occurrences of substring old replaced by new.\n",
      "\n",
      "      count\n",
      "        Maximum number of occurrences to replace.\n",
      "        -1 (the default value) means replace all occurrences.\n",
      "\n",
      "    If the optional argument count is given, only the first count occurrences are\n",
      "    replaced.\n",
      "\n"
     ]
    }
   ],
   "source": [
    "help(str.replace)"
   ]
  },
  {
   "cell_type": "code",
   "execution_count": 83,
   "id": "d7fb252f-5071-4be9-9c6c-de4438dc7a3a",
   "metadata": {},
   "outputs": [
    {
     "name": "stdout",
     "output_type": "stream",
     "text": [
      "m*ss*ss*pp*\n",
      "m*ss*ssippi\n"
     ]
    }
   ],
   "source": [
    "strg = \"mississippi\"\n",
    "print(strg.replace(\"i\", \"*\"))\n",
    "print(strg.replace(\"i\", \"*\", 2))"
   ]
  },
  {
   "cell_type": "code",
   "execution_count": 84,
   "id": "4253af80-531a-47e3-950b-2fdc8e478c3f",
   "metadata": {},
   "outputs": [
    {
     "name": "stdout",
     "output_type": "stream",
     "text": [
      "Help on built-in function sorted in module builtins:\n",
      "\n",
      "sorted(iterable, /, *, key=None, reverse=False)\n",
      "    Return a new list containing all items from the iterable in ascending order.\n",
      "\n",
      "    A custom key function can be supplied to customize the sort order, and the\n",
      "    reverse flag can be set to request the result in descending order.\n",
      "\n"
     ]
    }
   ],
   "source": [
    "help(sorted)"
   ]
  },
  {
   "cell_type": "code",
   "execution_count": 85,
   "id": "f8af7ac1-ff24-411f-9c95-d4d794d86562",
   "metadata": {},
   "outputs": [],
   "source": [
    "def demo(name, age = 30) :\n",
    "    print(f\"Name - {name} | Age - {age}\")"
   ]
  },
  {
   "cell_type": "code",
   "execution_count": 90,
   "id": "8dc1c691-ba21-497b-b397-b1b65fea3a92",
   "metadata": {},
   "outputs": [
    {
     "name": "stdout",
     "output_type": "stream",
     "text": [
      "Name - Jane | Age - 25\n",
      "Name - Jane | Age - 30\n",
      "Name - 25 | Age - Jane\n"
     ]
    },
    {
     "ename": "TypeError",
     "evalue": "demo() missing 1 required positional argument: 'name'",
     "output_type": "error",
     "traceback": [
      "\u001b[1;31m---------------------------------------------------------------------------\u001b[0m",
      "\u001b[1;31mTypeError\u001b[0m                                 Traceback (most recent call last)",
      "Cell \u001b[1;32mIn[90], line 4\u001b[0m\n\u001b[0;32m      2\u001b[0m demo(\u001b[38;5;124m\"\u001b[39m\u001b[38;5;124mJane\u001b[39m\u001b[38;5;124m\"\u001b[39m)\n\u001b[0;32m      3\u001b[0m demo(\u001b[38;5;241m25\u001b[39m, \u001b[38;5;124m\"\u001b[39m\u001b[38;5;124mJane\u001b[39m\u001b[38;5;124m\"\u001b[39m)\n\u001b[1;32m----> 4\u001b[0m \u001b[43mdemo\u001b[49m\u001b[43m(\u001b[49m\u001b[43m)\u001b[49m\n",
      "\u001b[1;31mTypeError\u001b[0m: demo() missing 1 required positional argument: 'name'"
     ]
    }
   ],
   "source": [
    "demo(\"Jane\", 25)\n",
    "demo(\"Jane\")\n",
    "demo(25, \"Jane\")\n",
    "demo()"
   ]
  },
  {
   "cell_type": "markdown",
   "id": "203f9bbd-335c-4a3f-97ae-77babb2d4552",
   "metadata": {},
   "source": [
    "#### Variable Length Argument"
   ]
  },
  {
   "cell_type": "code",
   "execution_count": 91,
   "id": "b450b1b3-074a-4a23-81c6-ce72586eb219",
   "metadata": {},
   "outputs": [],
   "source": [
    "def demo(name, *args, age = 18) :\n",
    "    print(f\"Name - {name} | Age - {age} | marks - {args}\")"
   ]
  },
  {
   "cell_type": "code",
   "execution_count": 92,
   "id": "55f18fa4-b695-41b8-bc1b-58e37394820b",
   "metadata": {},
   "outputs": [
    {
     "name": "stdout",
     "output_type": "stream",
     "text": [
      "Name - Jane | Age - 18 | marks - (50, 60, 70, 80, 90, 20)\n"
     ]
    }
   ],
   "source": [
    "demo(\"Jane\", 50, 60, 70, 80, 90, 20)"
   ]
  },
  {
   "cell_type": "markdown",
   "id": "287ebed0-dfdd-44d9-939a-7f6d0d946f9f",
   "metadata": {},
   "source": [
    "#### Key-word Arugment"
   ]
  },
  {
   "cell_type": "code",
   "execution_count": 94,
   "id": "8b230003-0c8f-4b24-b87b-6e959173a582",
   "metadata": {},
   "outputs": [
    {
     "name": "stdout",
     "output_type": "stream",
     "text": [
      "Name - Jane | Age - 20 | marks - (50, 60, 70, 80, 90)\n"
     ]
    }
   ],
   "source": [
    "demo(\"Jane\", 50, 60, 70, 80, 90, age = 20)"
   ]
  },
  {
   "cell_type": "markdown",
   "id": "55d875be-3f7e-4475-909b-0dc2191b41f0",
   "metadata": {},
   "source": [
    "#### Variable length key-word Argument"
   ]
  },
  {
   "cell_type": "code",
   "execution_count": 98,
   "id": "4c590c11-645f-4744-a360-b9baf99b6e68",
   "metadata": {},
   "outputs": [],
   "source": [
    "def demo(name, *args, age = 18, **kwargs) :\n",
    "    print(f\"Name - {name} | Age - {age} | marks - {args} | Additional details - {kwargs}\")"
   ]
  },
  {
   "cell_type": "code",
   "execution_count": 99,
   "id": "96b2fbf7-41c8-43a2-a1cc-8a7b12bd8683",
   "metadata": {},
   "outputs": [
    {
     "name": "stdout",
     "output_type": "stream",
     "text": [
      "Name - Jane | Age - 20 | marks - (50, 60, 70, 80, 90) | Additional details - {'mob': 98765443, 'gender': 'F'}\n"
     ]
    }
   ],
   "source": [
    "demo(\"Jane\", 50, 60, 70, 80, 90, age = 20, mob = 98765443, gender = \"F\")"
   ]
  },
  {
   "cell_type": "markdown",
   "id": "20849dd1-fb5d-4978-bd80-249af7751dbd",
   "metadata": {},
   "source": [
    "#### Significance of `/` and `*`"
   ]
  },
  {
   "cell_type": "markdown",
   "id": "2dda1767-0ed9-4bf6-9487-e7cb7815973e",
   "metadata": {},
   "source": [
    "- **`*`** - All arguments after `*` must be key-word arguments\n",
    "- **`/`** - All arguments before `/` must be positional-only arguments"
   ]
  },
  {
   "cell_type": "code",
   "execution_count": 101,
   "id": "86c8228d-3815-4f9d-aee5-c87b82963a9d",
   "metadata": {},
   "outputs": [
    {
     "name": "stdout",
     "output_type": "stream",
     "text": [
      "Name - Jane | Age - 30\n",
      "Name - Jane | Age - 30\n",
      "Name - Jane | Age - 30\n"
     ]
    }
   ],
   "source": [
    "def demo(name, age) :\n",
    "    print(f\"Name - {name} | Age - {age}\")\n",
    "\n",
    "demo(\"Jane\", 30)\n",
    "demo(\"Jane\", age = 30)\n",
    "demo(age = 30, name = \"Jane\")"
   ]
  },
  {
   "cell_type": "code",
   "execution_count": 103,
   "id": "94eba823-975f-4212-9ddb-7ce089bda0ce",
   "metadata": {},
   "outputs": [
    {
     "name": "stdout",
     "output_type": "stream",
     "text": [
      "Name - Jane | Age - 30\n"
     ]
    }
   ],
   "source": [
    "def demo(name, age, /) :\n",
    "    print(f\"Name - {name} | Age - {age}\")\n",
    "\n",
    "demo(\"Jane\", 30)\n",
    "# demo(\"Jane\", age = 30)   # error\n",
    "# demo(age = 30, name = \"Jane\")  # error"
   ]
  },
  {
   "cell_type": "code",
   "execution_count": 104,
   "id": "a0f31216-fe15-451c-ba57-9b4817f6a62a",
   "metadata": {},
   "outputs": [
    {
     "name": "stdout",
     "output_type": "stream",
     "text": [
      "Name - Jane | Age - 30\n",
      "Name - Jane | Age - 30\n"
     ]
    },
    {
     "ename": "TypeError",
     "evalue": "demo() got some positional-only arguments passed as keyword arguments: 'name'",
     "output_type": "error",
     "traceback": [
      "\u001b[1;31m---------------------------------------------------------------------------\u001b[0m",
      "\u001b[1;31mTypeError\u001b[0m                                 Traceback (most recent call last)",
      "Cell \u001b[1;32mIn[104], line 6\u001b[0m\n\u001b[0;32m      4\u001b[0m demo(\u001b[38;5;124m\"\u001b[39m\u001b[38;5;124mJane\u001b[39m\u001b[38;5;124m\"\u001b[39m, \u001b[38;5;241m30\u001b[39m)\n\u001b[0;32m      5\u001b[0m demo(\u001b[38;5;124m\"\u001b[39m\u001b[38;5;124mJane\u001b[39m\u001b[38;5;124m\"\u001b[39m, age \u001b[38;5;241m=\u001b[39m \u001b[38;5;241m30\u001b[39m)\n\u001b[1;32m----> 6\u001b[0m \u001b[43mdemo\u001b[49m\u001b[43m(\u001b[49m\u001b[43mage\u001b[49m\u001b[43m \u001b[49m\u001b[38;5;241;43m=\u001b[39;49m\u001b[43m \u001b[49m\u001b[38;5;241;43m30\u001b[39;49m\u001b[43m,\u001b[49m\u001b[43m \u001b[49m\u001b[43mname\u001b[49m\u001b[43m \u001b[49m\u001b[38;5;241;43m=\u001b[39;49m\u001b[43m \u001b[49m\u001b[38;5;124;43m\"\u001b[39;49m\u001b[38;5;124;43mJane\u001b[39;49m\u001b[38;5;124;43m\"\u001b[39;49m\u001b[43m)\u001b[49m  \u001b[38;5;66;03m# error\u001b[39;00m\n",
      "\u001b[1;31mTypeError\u001b[0m: demo() got some positional-only arguments passed as keyword arguments: 'name'"
     ]
    }
   ],
   "source": [
    "def demo(name, /, age) :\n",
    "    print(f\"Name - {name} | Age - {age}\")\n",
    "\n",
    "demo(\"Jane\", 30)\n",
    "demo(\"Jane\", age = 30)\n",
    "demo(age = 30, name = \"Jane\")  # error"
   ]
  },
  {
   "cell_type": "code",
   "execution_count": 106,
   "id": "ba19ef0f-970a-4a63-85e2-808137e9b799",
   "metadata": {},
   "outputs": [
    {
     "name": "stdout",
     "output_type": "stream",
     "text": [
      "Name - Jane | Age - 30\n",
      "Name - Jane | Age - 30\n"
     ]
    }
   ],
   "source": [
    "def demo(name, *, age) :\n",
    "    print(f\"Name - {name} | Age - {age}\")\n",
    "\n",
    "# demo(\"Jane\", 30) # error\n",
    "demo(\"Jane\", age = 30)\n",
    "demo(age = 30, name = \"Jane\") "
   ]
  },
  {
   "cell_type": "markdown",
   "id": "b6f4e9be-590f-448c-a983-3697d67d57a2",
   "metadata": {},
   "source": [
    "###### Problem Statement - Store all the details of employees in the list to a file."
   ]
  },
  {
   "cell_type": "code",
   "execution_count": 136,
   "id": "de23b11b-a34b-45c7-b57a-70bf79e56939",
   "metadata": {},
   "outputs": [
    {
     "name": "stdout",
     "output_type": "stream",
     "text": [
      "Details of employee Jack added to file\n"
     ]
    }
   ],
   "source": [
    "def write_to_file(ecode, name, salary):\n",
    "    with open(\"emp_details.txt\", \"a\") as file :\n",
    "        file.write(f\"{ecode},{name},{salary}\\n\")\n",
    "    print(f\"Details of employee {name} added to file\")\n",
    "write_to_file(1, \"Jack\", 50000)"
   ]
  },
  {
   "cell_type": "code",
   "execution_count": 135,
   "id": "bce33878-933b-472f-87df-b10b822dc143",
   "metadata": {},
   "outputs": [],
   "source": [
    "emps = [\n",
    "(101, 'Jane', 70000),\n",
    "(102, 'Rosie', 90000),\n",
    "(103, 'Mary', 40000),\n",
    "(104, 'Sam', 55000),\n",
    " ]"
   ]
  },
  {
   "cell_type": "code",
   "execution_count": 138,
   "id": "0c187bdc-665c-4eeb-972b-94279a27df5a",
   "metadata": {},
   "outputs": [
    {
     "name": "stdout",
     "output_type": "stream",
     "text": [
      "Details of employee Jane added to file\n",
      "Details of employee Rosie added to file\n",
      "Details of employee Mary added to file\n",
      "Details of employee Sam added to file\n",
      "Details of employee George added to file\n"
     ]
    }
   ],
   "source": [
    "for e in emps :\n",
    "    write_to_file(*e)"
   ]
  },
  {
   "cell_type": "code",
   "execution_count": 139,
   "id": "1c524ea5-ce7d-437d-b185-b3872dcf0ec4",
   "metadata": {},
   "outputs": [
    {
     "name": "stdout",
     "output_type": "stream",
     "text": [
      "Details of employee Jane added to file\n"
     ]
    }
   ],
   "source": [
    "data = {\"ecode\" :101, \"name\" : 'Jane', \"salary\" : 70000}\n",
    "write_to_file(**data)"
   ]
  },
  {
   "cell_type": "markdown",
   "id": "d62d117b-8757-41b6-aadc-442256b9739a",
   "metadata": {},
   "source": [
    "## Lambda Functions"
   ]
  },
  {
   "cell_type": "markdown",
   "id": "9c7542c0-f3c9-4096-a1d5-b384d660b238",
   "metadata": {},
   "source": [
    "###### Ex. WAP to define a lambda function to add 2 numbers"
   ]
  },
  {
   "cell_type": "code",
   "execution_count": 108,
   "id": "897a9ce1-1254-49b4-a299-7b68684b52b4",
   "metadata": {},
   "outputs": [
    {
     "data": {
      "text/plain": [
       "5"
      ]
     },
     "execution_count": 108,
     "metadata": {},
     "output_type": "execute_result"
    }
   ],
   "source": [
    "add = lambda num1, num2 : num1 + num2\n",
    "\n",
    "add(2, 3)"
   ]
  },
  {
   "cell_type": "markdown",
   "id": "a8a99f7b-aa7d-40fd-94da-38096b3ec0a0",
   "metadata": {},
   "source": [
    "###### WALF to retun square of a number"
   ]
  },
  {
   "cell_type": "code",
   "execution_count": 109,
   "id": "5f9a5d42-b387-444a-aace-ee9b1d7256ab",
   "metadata": {},
   "outputs": [
    {
     "data": {
      "text/plain": [
       "25"
      ]
     },
     "execution_count": 109,
     "metadata": {},
     "output_type": "execute_result"
    }
   ],
   "source": [
    "square = lambda num : num ** 2\n",
    "square(5)"
   ]
  },
  {
   "cell_type": "markdown",
   "id": "0590093b-0854-4f3f-8de1-0c4e6fc694da",
   "metadata": {},
   "source": [
    "## Application of Function Objects"
   ]
  },
  {
   "cell_type": "code",
   "execution_count": 110,
   "id": "290bbe4f-eb58-42e8-bc33-a215136cba1d",
   "metadata": {},
   "outputs": [],
   "source": [
    "def func(a, b) :\n",
    "    if a < b :\n",
    "        return a\n",
    "    else : \n",
    "        return b"
   ]
  },
  {
   "cell_type": "code",
   "execution_count": 111,
   "id": "e99dad74-89b5-41cb-98b5-cde335ee242f",
   "metadata": {},
   "outputs": [
    {
     "data": {
      "text/plain": [
       "3"
      ]
     },
     "execution_count": 111,
     "metadata": {},
     "output_type": "execute_result"
    }
   ],
   "source": [
    "var = func(3, 4)\n",
    "var"
   ]
  },
  {
   "cell_type": "code",
   "execution_count": 112,
   "id": "7f859140-8216-4f33-b93c-580dd4f155b7",
   "metadata": {},
   "outputs": [
    {
     "data": {
      "text/plain": [
       "<function __main__.func(a, b)>"
      ]
     },
     "execution_count": 112,
     "metadata": {},
     "output_type": "execute_result"
    }
   ],
   "source": [
    "var = func\n",
    "var"
   ]
  },
  {
   "cell_type": "code",
   "execution_count": 113,
   "id": "e285b27c-a8f4-4a36-9704-113b5f5c387b",
   "metadata": {},
   "outputs": [
    {
     "data": {
      "text/plain": [
       "<function len(obj, /)>"
      ]
     },
     "execution_count": 113,
     "metadata": {},
     "output_type": "execute_result"
    }
   ],
   "source": [
    "var = len\n",
    "var"
   ]
  },
  {
   "cell_type": "code",
   "execution_count": 114,
   "id": "14b95861-dab7-49d9-847f-6446662ee149",
   "metadata": {},
   "outputs": [
    {
     "data": {
      "text/plain": [
       "4"
      ]
     },
     "execution_count": 114,
     "metadata": {},
     "output_type": "execute_result"
    }
   ],
   "source": [
    "var(\"abcd\")"
   ]
  },
  {
   "cell_type": "markdown",
   "id": "6dd643c4-3213-4778-b4f5-7259cdef601f",
   "metadata": {},
   "source": [
    "###### Ex. WAP to sort the given list"
   ]
  },
  {
   "cell_type": "code",
   "execution_count": 115,
   "id": "1a1094a6-a792-433a-afbd-128ff978f17d",
   "metadata": {},
   "outputs": [
    {
     "data": {
      "text/plain": [
       "['bike', 'car', 'flight', 'train']"
      ]
     },
     "execution_count": 115,
     "metadata": {},
     "output_type": "execute_result"
    }
   ],
   "source": [
    "lst = [\"flight\", \"bike\", \"train\", \"car\"]\n",
    "sorted(lst) # sorts alphabetically"
   ]
  },
  {
   "cell_type": "code",
   "execution_count": 117,
   "id": "646f2434-cf60-4400-b12d-ab704d5527a9",
   "metadata": {},
   "outputs": [
    {
     "data": {
      "text/plain": [
       "['bike', 'train', 'car', 'flight']"
      ]
     },
     "execution_count": 117,
     "metadata": {},
     "output_type": "execute_result"
    }
   ],
   "source": [
    "lst = [\"flight\", \"bike\", \"train\", \"car\"]\n",
    "sorted(lst, key = lambda strg : strg[-1]) # sorts as per the last character of each word"
   ]
  },
  {
   "cell_type": "code",
   "execution_count": 118,
   "id": "3302b011-1c84-4709-a0e7-92936d28a444",
   "metadata": {},
   "outputs": [
    {
     "data": {
      "text/plain": [
       "['car', 'bike', 'train', 'flight']"
      ]
     },
     "execution_count": 118,
     "metadata": {},
     "output_type": "execute_result"
    }
   ],
   "source": [
    "lst = [\"flight\", \"bike\", \"train\", \"car\"]\n",
    "sorted(lst, key = len)  # sorts by num of characters in each word"
   ]
  },
  {
   "cell_type": "markdown",
   "id": "511dca8c-9aa6-4252-97e9-9c14bd9b4288",
   "metadata": {},
   "source": [
    "###### Ex. WAP to display name and age of the employees in ASC order of their ages"
   ]
  },
  {
   "cell_type": "code",
   "execution_count": 122,
   "id": "8da13577-cff9-4c8b-8f9b-d80f98aa1e83",
   "metadata": {},
   "outputs": [
    {
     "data": {
      "text/plain": [
       "{'Jack': 20, 'Rosie': 25, 'Jane': 30}"
      ]
     },
     "execution_count": 122,
     "metadata": {},
     "output_type": "execute_result"
    }
   ],
   "source": [
    "emp = {'Jane': 30, 'Jack': 20, 'Rosie': 25}\n",
    "dict(sorted(emp.items(), key = lambda tup : tup[1]))"
   ]
  },
  {
   "cell_type": "markdown",
   "id": "98811222-2dd9-4406-bcb3-1b7a493c566a",
   "metadata": {},
   "source": [
    "###### Ex. WAP to create a dict of names as keys and salaries as values"
   ]
  },
  {
   "cell_type": "code",
   "execution_count": 124,
   "id": "bd0d6416-763d-4f8a-8898-88beaacb8012",
   "metadata": {},
   "outputs": [
    {
     "data": {
      "text/plain": [
       "{'Jane': 70000, 'Rosie': 90000, 'Mary': 40000, 'Sam': 55000, 'George': 76000}"
      ]
     },
     "execution_count": 124,
     "metadata": {},
     "output_type": "execute_result"
    }
   ],
   "source": [
    "names = ['Jane', 'Rosie', 'Mary', 'Sam', 'George']\n",
    "salary = [70000, 90000, 40000, 55000, 76000]\n",
    "dict(zip(names, salary))"
   ]
  },
  {
   "cell_type": "markdown",
   "id": "b028cdde-6238-44fb-a9b1-1c875d8605c4",
   "metadata": {},
   "source": [
    "###### Ex. WAP to create a dict where keys are emp code starting from 101... and values are tuples of (name, salary)"
   ]
  },
  {
   "cell_type": "code",
   "execution_count": 128,
   "id": "a340b81e-568c-412e-9e62-821d50309063",
   "metadata": {},
   "outputs": [
    {
     "name": "stdout",
     "output_type": "stream",
     "text": [
      "{101: ('Jane', 70000), 102: ('Rosie', 90000), 103: ('Mary', 40000), 104: ('Sam', 55000), 105: ('George', 76000)}\n"
     ]
    }
   ],
   "source": [
    "print(dict(enumerate(zip(names, salary), start = 101)))"
   ]
  },
  {
   "cell_type": "code",
   "execution_count": 143,
   "id": "9a05006e-4aad-4890-9a6a-6acf0e84315a",
   "metadata": {},
   "outputs": [
    {
     "data": {
      "text/plain": [
       "'train'"
      ]
     },
     "execution_count": 143,
     "metadata": {},
     "output_type": "execute_result"
    }
   ],
   "source": [
    "lst = [\"flight\", \"bike\", \"train\", \"car\"]\n",
    "max(lst)"
   ]
  },
  {
   "cell_type": "code",
   "execution_count": 141,
   "id": "5fd48afd-25fe-465b-9b01-7590e3c39bc0",
   "metadata": {},
   "outputs": [
    {
     "data": {
      "text/plain": [
       "'flight'"
      ]
     },
     "execution_count": 141,
     "metadata": {},
     "output_type": "execute_result"
    }
   ],
   "source": [
    "max(lst, key = len)"
   ]
  },
  {
   "cell_type": "code",
   "execution_count": 144,
   "id": "d7a14449-f582-4742-bbcd-166d68cce225",
   "metadata": {},
   "outputs": [
    {
     "data": {
      "text/plain": [
       "'flight'"
      ]
     },
     "execution_count": 144,
     "metadata": {},
     "output_type": "execute_result"
    }
   ],
   "source": [
    "max(lst, key = min)"
   ]
  },
  {
   "cell_type": "markdown",
   "id": "ee9c2edd-93df-4df2-b1a2-1cd2e81b6307",
   "metadata": {},
   "source": [
    "## Working on Arrays"
   ]
  },
  {
   "cell_type": "code",
   "execution_count": null,
   "id": "a34d16a5-e9b0-4587-8b5a-eab2e0933b6f",
   "metadata": {},
   "outputs": [],
   "source": [
    "!pip install numpy  # Install only if np is not present"
   ]
  },
  {
   "cell_type": "code",
   "execution_count": 145,
   "id": "5397a917-8f1c-4317-8a76-f668ebaf1654",
   "metadata": {},
   "outputs": [],
   "source": [
    "import numpy as np"
   ]
  },
  {
   "cell_type": "code",
   "execution_count": 146,
   "id": "8685b754-0223-44e9-8abd-70236998d9e5",
   "metadata": {},
   "outputs": [],
   "source": [
    "names = np.array([\"Olivia\", \"Liam\", \"Emma\", \"Noah\", \"Ava\", \"Sophia\", \"Jackson\", \"Isabella\", \"Lucas\", \"Mia\"])\n",
    "maths = np.array([93, 60, 68, 53, 63, 30, 46, 63, 66, 53])\n",
    "english = np.array([75, 69, 78, 66, 53, 26, 65, 62, 63, 70])\n",
    "science = np.array([96, 57, 55, 52, 52, 31, 96, 58, 52, 70])"
   ]
  },
  {
   "cell_type": "markdown",
   "id": "b704f2a4-2b1f-4614-b113-ae61c9cf8781",
   "metadata": {},
   "source": [
    "#### Array Attributes"
   ]
  },
  {
   "cell_type": "markdown",
   "id": "31750cd0-bd8f-41a9-9c5c-1ef657f103cc",
   "metadata": {},
   "source": [
    "###### How many students appreared for the exam?"
   ]
  },
  {
   "cell_type": "code",
   "execution_count": 147,
   "id": "7a84e830-9abe-4d9f-80d3-ca756623274b",
   "metadata": {},
   "outputs": [
    {
     "data": {
      "text/plain": [
       "10"
      ]
     },
     "execution_count": 147,
     "metadata": {},
     "output_type": "execute_result"
    }
   ],
   "source": [
    "names.size"
   ]
  },
  {
   "cell_type": "code",
   "execution_count": 148,
   "id": "4cdbc6e9-38e6-4408-bc08-1b9a74f28908",
   "metadata": {},
   "outputs": [
    {
     "data": {
      "text/plain": [
       "dtype('<U8')"
      ]
     },
     "execution_count": 148,
     "metadata": {},
     "output_type": "execute_result"
    }
   ],
   "source": [
    "names.dtype"
   ]
  },
  {
   "cell_type": "code",
   "execution_count": 149,
   "id": "c42bd3c4-5aae-4e45-92d9-0ae45978bd94",
   "metadata": {},
   "outputs": [
    {
     "data": {
      "text/plain": [
       "dtype('int64')"
      ]
     },
     "execution_count": 149,
     "metadata": {},
     "output_type": "execute_result"
    }
   ],
   "source": [
    "maths.dtype"
   ]
  },
  {
   "cell_type": "code",
   "execution_count": 150,
   "id": "e8a45c37-aa5e-4a01-b060-770c8a492ad2",
   "metadata": {},
   "outputs": [
    {
     "data": {
      "text/plain": [
       "1"
      ]
     },
     "execution_count": 150,
     "metadata": {},
     "output_type": "execute_result"
    }
   ],
   "source": [
    "names.ndim  # dimensions of array"
   ]
  },
  {
   "cell_type": "markdown",
   "id": "2e6e8a08-33cf-440e-8c85-650c6d76dc45",
   "metadata": {},
   "source": [
    "#### Accessing Array elemenets and Operations on Arrays"
   ]
  },
  {
   "cell_type": "markdown",
   "id": "eb83e6dc-4134-4e73-9817-bc628ee2f836",
   "metadata": {},
   "source": [
    "###### Ex. Who scored maximum marks in science?"
   ]
  },
  {
   "cell_type": "code",
   "execution_count": 156,
   "id": "7675f397-ce92-4b8d-855e-45a034561e0d",
   "metadata": {},
   "outputs": [
    {
     "data": {
      "text/plain": [
       "96"
      ]
     },
     "execution_count": 156,
     "metadata": {},
     "output_type": "execute_result"
    }
   ],
   "source": [
    "int(science.max())"
   ]
  },
  {
   "cell_type": "code",
   "execution_count": 157,
   "id": "6bd8f956-29a2-4fce-b315-159dd9e6e481",
   "metadata": {},
   "outputs": [
    {
     "data": {
      "text/plain": [
       "np.int64(0)"
      ]
     },
     "execution_count": 157,
     "metadata": {},
     "output_type": "execute_result"
    }
   ],
   "source": [
    "science.argmax()  # Returns the index position of largest element"
   ]
  },
  {
   "cell_type": "code",
   "execution_count": 158,
   "id": "3132e825-cda7-40b8-b8d2-720771b9da68",
   "metadata": {},
   "outputs": [
    {
     "data": {
      "text/plain": [
       "array([ True, False, False, False, False, False,  True, False, False,\n",
       "       False])"
      ]
     },
     "execution_count": 158,
     "metadata": {},
     "output_type": "execute_result"
    }
   ],
   "source": [
    "science == science.max()  # Returns a bool array after comparing based on condition"
   ]
  },
  {
   "cell_type": "code",
   "execution_count": 159,
   "id": "68ed15ad-e224-43ca-9c95-b7934789f34c",
   "metadata": {},
   "outputs": [
    {
     "data": {
      "text/plain": [
       "array([96, 96])"
      ]
     },
     "execution_count": 159,
     "metadata": {},
     "output_type": "execute_result"
    }
   ],
   "source": [
    "science[science == science.max()]"
   ]
  },
  {
   "cell_type": "code",
   "execution_count": 160,
   "id": "33bd3f2c-43d3-4cb9-b267-ca45f03b2bc0",
   "metadata": {},
   "outputs": [
    {
     "data": {
      "text/plain": [
       "array(['Olivia', 'Jackson'], dtype='<U8')"
      ]
     },
     "execution_count": 160,
     "metadata": {},
     "output_type": "execute_result"
    }
   ],
   "source": [
    "names[science == science.max()]"
   ]
  },
  {
   "cell_type": "markdown",
   "id": "8e44c976-94c7-4aeb-ac8a-04b4d874c1ef",
   "metadata": {},
   "source": [
    "###### Ex. How many students have passed in maths?"
   ]
  },
  {
   "cell_type": "code",
   "execution_count": 161,
   "id": "21d28df8-5bd0-472b-915f-018055a589e1",
   "metadata": {},
   "outputs": [
    {
     "data": {
      "text/plain": [
       "array(['Olivia', 'Liam', 'Emma', 'Noah', 'Ava', 'Jackson', 'Isabella',\n",
       "       'Lucas', 'Mia'], dtype='<U8')"
      ]
     },
     "execution_count": 161,
     "metadata": {},
     "output_type": "execute_result"
    }
   ],
   "source": [
    "names[maths >= 35]"
   ]
  },
  {
   "cell_type": "code",
   "execution_count": 162,
   "id": "50ea7e34-8805-4e53-88cd-bcd279fc8738",
   "metadata": {},
   "outputs": [
    {
     "data": {
      "text/plain": [
       "9"
      ]
     },
     "execution_count": 162,
     "metadata": {},
     "output_type": "execute_result"
    }
   ],
   "source": [
    "names[maths >= 35].size"
   ]
  },
  {
   "cell_type": "code",
   "execution_count": 164,
   "id": "742cd044-3652-4224-8f42-adb23eea21f8",
   "metadata": {},
   "outputs": [
    {
     "data": {
      "text/plain": [
       "np.int64(9)"
      ]
     },
     "execution_count": 164,
     "metadata": {},
     "output_type": "execute_result"
    }
   ],
   "source": [
    "sum(maths >= 35)"
   ]
  },
  {
   "cell_type": "markdown",
   "id": "87272b3c-3d49-4581-9274-6427110dc7be",
   "metadata": {},
   "source": [
    "###### Ex. Are there any students who have failed in maths? (True or False)"
   ]
  },
  {
   "cell_type": "code",
   "execution_count": 169,
   "id": "8891ff9e-3412-4736-8432-afbe202a116e",
   "metadata": {},
   "outputs": [
    {
     "data": {
      "text/plain": [
       "np.False_"
      ]
     },
     "execution_count": 169,
     "metadata": {},
     "output_type": "execute_result"
    }
   ],
   "source": [
    "np.all(maths >= 35)   # returns True if all values are True else False"
   ]
  },
  {
   "cell_type": "code",
   "execution_count": 173,
   "id": "a002f63d-f885-4c17-93cc-169d8af057ad",
   "metadata": {},
   "outputs": [
    {
     "data": {
      "text/plain": [
       "np.True_"
      ]
     },
     "execution_count": 173,
     "metadata": {},
     "output_type": "execute_result"
    }
   ],
   "source": [
    "np.any(english < 35)   # returns True if any one value is True else Falseb"
   ]
  },
  {
   "cell_type": "code",
   "execution_count": 174,
   "id": "6b200b56-8783-439b-9e75-dae5f7cb1c3e",
   "metadata": {},
   "outputs": [
    {
     "data": {
      "text/plain": [
       "False"
      ]
     },
     "execution_count": 174,
     "metadata": {},
     "output_type": "execute_result"
    }
   ],
   "source": [
    "lst = [True, False, True, ()]\n",
    "all(lst)"
   ]
  },
  {
   "cell_type": "code",
   "execution_count": 175,
   "id": "0116d731-7c19-4a8a-9496-756fd4a29512",
   "metadata": {},
   "outputs": [
    {
     "data": {
      "text/plain": [
       "False"
      ]
     },
     "execution_count": 175,
     "metadata": {},
     "output_type": "execute_result"
    }
   ],
   "source": [
    "lst = [True, True, True, ()]  # bool of empty tuple is always False\n",
    "all(lst)"
   ]
  },
  {
   "cell_type": "markdown",
   "id": "2eb0faca-87dd-49a3-ad2a-b58e3e4e37d4",
   "metadata": {},
   "source": [
    "###### Ex. Have all students cleared their math exams (True or False)"
   ]
  },
  {
   "cell_type": "code",
   "execution_count": 176,
   "id": "b9f2f010-5ddb-4009-b2ea-24acd661d75f",
   "metadata": {},
   "outputs": [
    {
     "data": {
      "text/plain": [
       "np.False_"
      ]
     },
     "execution_count": 176,
     "metadata": {},
     "output_type": "execute_result"
    }
   ],
   "source": [
    "np.all(maths >= 35)"
   ]
  },
  {
   "cell_type": "markdown",
   "id": "a6602167-d5e9-43e0-9c20-65f0e059cc66",
   "metadata": {},
   "source": [
    "###### Ex. Who failed in maths? passing marks - 35"
   ]
  },
  {
   "cell_type": "code",
   "execution_count": 187,
   "id": "c7995c0f-dff2-45c6-9214-61ab765262ff",
   "metadata": {},
   "outputs": [
    {
     "data": {
      "text/plain": [
       "array(['Sophia'], dtype='<U8')"
      ]
     },
     "execution_count": 187,
     "metadata": {},
     "output_type": "execute_result"
    }
   ],
   "source": [
    "names[maths< 35]"
   ]
  },
  {
   "cell_type": "code",
   "execution_count": 190,
   "id": "ebc6d83d-5dae-4cf6-ad35-1dd4a54fc421",
   "metadata": {},
   "outputs": [
    {
     "data": {
      "text/plain": [
       "'Olivia, Liam, Emma, Noah, Ava, Jackson, Isabella, Lucas, Mia'"
      ]
     },
     "execution_count": 190,
     "metadata": {},
     "output_type": "execute_result"
    }
   ],
   "source": [
    "\", \".join(names[maths > 35])"
   ]
  },
  {
   "cell_type": "markdown",
   "id": "4b4f97dc-00a0-465e-9f3f-38148e098a55",
   "metadata": {},
   "source": [
    "<br><br><br><br><br><br><br><br><br><br><br><br><br><br><br><br><br><br><br><br><br><br><br><br><br><br>"
   ]
  },
  {
   "cell_type": "markdown",
   "id": "a04cecd3-77dc-4307-9d14-795ecde00382",
   "metadata": {},
   "source": [
    "###### Ex. Calculate percentage of all students and assign grades"
   ]
  },
  {
   "cell_type": "code",
   "execution_count": null,
   "id": "391c4b47-e505-448a-806c-af58e043c97d",
   "metadata": {},
   "outputs": [],
   "source": []
  },
  {
   "cell_type": "markdown",
   "id": "1f072d10-7b0f-47e6-947a-a62ebaad41e5",
   "metadata": {},
   "source": [
    "###### Assign grades to the students (Failed or pass)"
   ]
  },
  {
   "cell_type": "code",
   "execution_count": null,
   "id": "efe3adbd-b1c5-468b-bcf2-70a69bb26113",
   "metadata": {},
   "outputs": [],
   "source": []
  },
  {
   "cell_type": "markdown",
   "id": "e7e7f131-c5f3-4854-8b72-e70ae921f916",
   "metadata": {},
   "source": [
    "###### Assigning grades as A, B, C, D"
   ]
  },
  {
   "cell_type": "code",
   "execution_count": null,
   "id": "90a67aaa-41d5-4d2d-a06e-b4304ab4373a",
   "metadata": {},
   "outputs": [],
   "source": []
  },
  {
   "cell_type": "markdown",
   "id": "9d2b8c1e-271f-499c-80d4-1d90c9502c8b",
   "metadata": {},
   "source": [
    "###### Ex. Display names of students who have scored above class average."
   ]
  },
  {
   "cell_type": "code",
   "execution_count": null,
   "id": "a9ac4542-15fa-40ca-826d-cf4a054081eb",
   "metadata": {},
   "outputs": [],
   "source": []
  },
  {
   "cell_type": "markdown",
   "id": "35d1358e-9a60-4fd0-a1fa-2cc9096e722b",
   "metadata": {},
   "source": [
    "### Working on Dataframes"
   ]
  },
  {
   "cell_type": "markdown",
   "id": "a6f7d4ea-c47b-41ba-a11d-7c17cdb1e27b",
   "metadata": {},
   "source": [
    "#### Reading data from various sources (excel/csv, database, json)"
   ]
  },
  {
   "cell_type": "code",
   "execution_count": null,
   "id": "3edca489-070b-4392-becc-0381481805b9",
   "metadata": {},
   "outputs": [],
   "source": [
    "import numpy as np\n",
    "import pandas as pd\n",
    "import matplotlib.pyplot as plt\n",
    "import seaborn as sns"
   ]
  },
  {
   "cell_type": "markdown",
   "id": "e5f5e554-7f5b-4a0a-8a24-9992fb15b0aa",
   "metadata": {},
   "source": [
    "#### Creating a Datafram from lists/arrays"
   ]
  },
  {
   "cell_type": "code",
   "execution_count": null,
   "id": "f39904da-d14a-432e-b94d-78ef341f6346",
   "metadata": {},
   "outputs": [],
   "source": [
    "names = np.array([\"Olivia\", \"Liam\", \"Emma\", \"Noah\", \"Ava\", \"Sophia\", \"Jackson\", \"Isabella\", \"Lucas\", \"Mia\"])\n",
    "maths = np.array([93, 60, 68, 53, 63, 30, 46, 63, 66, 53])\n",
    "english = np.array([75, 69, 78, 66, 53, 26, 65, 62, 63, 70])\n",
    "science = np.array([96, 57, 55, 52, 52, 31, 96, 58, 52, 70])\n"
   ]
  },
  {
   "cell_type": "code",
   "execution_count": null,
   "id": "034c8b3c-3a6e-44a9-b7c8-360a3bdea123",
   "metadata": {},
   "outputs": [],
   "source": []
  },
  {
   "cell_type": "markdown",
   "id": "382ed68d-2b0b-491f-8298-517fabd81cbf",
   "metadata": {},
   "source": [
    "###### Ex. Create new columns as Total Marks, Percentage, Rank and Grade"
   ]
  },
  {
   "cell_type": "code",
   "execution_count": null,
   "id": "f0fb6a89-a128-410b-b5d6-8ddca51c9ff0",
   "metadata": {},
   "outputs": [],
   "source": []
  },
  {
   "cell_type": "markdown",
   "id": "a59c1108-2029-4ee2-a846-ef21ac35d107",
   "metadata": {},
   "source": [
    "###### Ex. What is AVG marks scored by students in Maths getting Grade B "
   ]
  },
  {
   "cell_type": "code",
   "execution_count": null,
   "id": "75a4dc6e-46af-4c00-9d2c-f6b3f63ad8f2",
   "metadata": {},
   "outputs": [],
   "source": []
  },
  {
   "cell_type": "markdown",
   "id": "4a532e78-91bd-4566-a201-894f076cf6b9",
   "metadata": {},
   "source": [
    "### Conneting to database"
   ]
  },
  {
   "cell_type": "code",
   "execution_count": null,
   "id": "3ec0e572-fc29-4ed6-98aa-baebf9828c7c",
   "metadata": {},
   "outputs": [],
   "source": [
    "!pip install sqlalchemy"
   ]
  },
  {
   "cell_type": "code",
   "execution_count": null,
   "id": "d35fd20f-4512-44ad-8904-a0250d6aee2d",
   "metadata": {},
   "outputs": [],
   "source": [
    "from sqlalchemy import create_engine\n",
    "conn = create_engine(\"sqlite:///employee.sqlite3\")\n",
    "conn"
   ]
  },
  {
   "cell_type": "code",
   "execution_count": null,
   "id": "5596d834-eb61-4dc7-9796-5bf028d7a568",
   "metadata": {},
   "outputs": [],
   "source": []
  },
  {
   "cell_type": "code",
   "execution_count": null,
   "id": "ed995ea3-a402-40d9-bb2d-695f30c4eb54",
   "metadata": {},
   "outputs": [],
   "source": [
    "mssql://*server_name*/*database_name*?trusted_connection=yes"
   ]
  },
  {
   "cell_type": "markdown",
   "id": "cd3fa3b0-58af-4f8e-8465-cfdbb3f6927d",
   "metadata": {},
   "source": [
    "### Connect to Json Object"
   ]
  },
  {
   "cell_type": "code",
   "execution_count": null,
   "id": "89e3ecb5-7309-4db9-880b-6baeb45cf7b7",
   "metadata": {},
   "outputs": [],
   "source": []
  },
  {
   "cell_type": "markdown",
   "id": "51aed624-8e08-4f58-93f5-86cbb84a48c7",
   "metadata": {},
   "source": [
    "### Read data from CSV"
   ]
  },
  {
   "cell_type": "markdown",
   "id": "2dff0e4d-c27e-4777-8045-4e7e68ce18bc",
   "metadata": {},
   "source": [
    "Method 1 - Set the current working directory as the file path"
   ]
  },
  {
   "cell_type": "code",
   "execution_count": null,
   "id": "46b0d3ca-a194-4e24-ac7f-ca352868be54",
   "metadata": {},
   "outputs": [],
   "source": []
  },
  {
   "cell_type": "markdown",
   "id": "63c4f5a0-b159-4ea7-840b-dd63dbf703a4",
   "metadata": {},
   "source": [
    "Method 2 - Upload the files to working environment using jupyter upload button"
   ]
  },
  {
   "cell_type": "markdown",
   "id": "b6300b58-26b5-4cb4-9d00-b7cd65b967e6",
   "metadata": {},
   "source": [
    "#### Reading data from csv file"
   ]
  },
  {
   "cell_type": "code",
   "execution_count": null,
   "id": "99834648-4557-4344-bca3-66b04d3ed819",
   "metadata": {},
   "outputs": [],
   "source": []
  },
  {
   "cell_type": "code",
   "execution_count": null,
   "id": "21d0dd10-1efc-4cad-add3-c775239ce39c",
   "metadata": {},
   "outputs": [],
   "source": []
  },
  {
   "cell_type": "markdown",
   "id": "7892424c-964b-470a-a748-fa43337523b6",
   "metadata": {},
   "source": [
    "#### Handling null values"
   ]
  },
  {
   "cell_type": "code",
   "execution_count": null,
   "id": "e194edc6-8f94-4bab-bb48-320dda832c95",
   "metadata": {},
   "outputs": [],
   "source": []
  },
  {
   "cell_type": "markdown",
   "id": "fa63edf1-96da-4766-8418-d1c2aebeacf8",
   "metadata": {},
   "source": [
    "#### Replacing nulls"
   ]
  },
  {
   "cell_type": "code",
   "execution_count": null,
   "id": "a8a896fb-f7f1-4524-8a22-6302c8e447c9",
   "metadata": {},
   "outputs": [],
   "source": []
  },
  {
   "cell_type": "markdown",
   "id": "e0f6366d-526f-4b9b-afc6-176db6b4372a",
   "metadata": {},
   "source": [
    "#### Remove nulls"
   ]
  },
  {
   "cell_type": "code",
   "execution_count": null,
   "id": "132f740a-8d9c-4fdc-8a93-d240031dd6d7",
   "metadata": {},
   "outputs": [],
   "source": []
  },
  {
   "cell_type": "markdown",
   "id": "1913a8c2-86f4-4714-b1b2-00be3e15afdf",
   "metadata": {},
   "source": [
    "#### Cleaning and Preparing Data"
   ]
  },
  {
   "cell_type": "code",
   "execution_count": null,
   "id": "689fbbe6-8563-48d4-afe1-be555b73b018",
   "metadata": {},
   "outputs": [],
   "source": []
  },
  {
   "cell_type": "markdown",
   "id": "28487602-6cfa-4d39-81f8-f85b38af6894",
   "metadata": {},
   "source": [
    "###### Ex. Find total avg sales (HINT - use mean() in Sales column)"
   ]
  },
  {
   "cell_type": "code",
   "execution_count": null,
   "id": "5d3e66d5-d47d-4eb2-bf69-e25d87a641b9",
   "metadata": {},
   "outputs": [],
   "source": []
  },
  {
   "cell_type": "markdown",
   "id": "bcafc8db-3f8a-49bc-bc7d-aaea1c8545c7",
   "metadata": {},
   "source": [
    "###### Converting date field"
   ]
  },
  {
   "cell_type": "code",
   "execution_count": null,
   "id": "c33ec719-496c-4f88-825c-1dbecc39c7a7",
   "metadata": {},
   "outputs": [],
   "source": []
  },
  {
   "cell_type": "markdown",
   "id": "daa540e2-f986-4874-93bd-6bc973d19a88",
   "metadata": {},
   "source": [
    "###### Ex. Create column for Target Status"
   ]
  },
  {
   "cell_type": "code",
   "execution_count": null,
   "id": "3e0e3703-2f9a-4230-a3fa-e531bf42641e",
   "metadata": {},
   "outputs": [],
   "source": []
  },
  {
   "cell_type": "markdown",
   "id": "3a78e97a-7c5f-4d61-80c1-b267f34db007",
   "metadata": {},
   "source": [
    "###### Ex. Visualise Target status on a bar chart"
   ]
  },
  {
   "cell_type": "code",
   "execution_count": null,
   "id": "23ce17a8-45fb-485f-8520-0b3e5ef44846",
   "metadata": {},
   "outputs": [],
   "source": []
  },
  {
   "cell_type": "markdown",
   "id": "0bc4b5c7-7951-47e1-850e-420cf3650b80",
   "metadata": {},
   "source": [
    "###### Ex. Visualise product-wise Sales"
   ]
  },
  {
   "cell_type": "code",
   "execution_count": null,
   "id": "cd30ef44-9b99-462f-ac46-d9e4f2793d8e",
   "metadata": {},
   "outputs": [],
   "source": []
  },
  {
   "cell_type": "markdown",
   "id": "55234250-62ba-4eed-9365-f35d57f91258",
   "metadata": {},
   "source": [
    "###### Ex. Display product-wise total sales across state Manipur in DESC Order. Find the product generating maximum sales."
   ]
  },
  {
   "cell_type": "code",
   "execution_count": null,
   "id": "b6583fbd-a643-4f02-a920-c40dbebb09d2",
   "metadata": {},
   "outputs": [],
   "source": []
  }
 ],
 "metadata": {
  "kernelspec": {
   "display_name": "Python 3 (ipykernel)",
   "language": "python",
   "name": "python3"
  },
  "language_info": {
   "codemirror_mode": {
    "name": "ipython",
    "version": 3
   },
   "file_extension": ".py",
   "mimetype": "text/x-python",
   "name": "python",
   "nbconvert_exporter": "python",
   "pygments_lexer": "ipython3",
   "version": "3.12.4"
  }
 },
 "nbformat": 4,
 "nbformat_minor": 5
}
